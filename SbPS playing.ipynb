{
 "cells": [
  {
   "cell_type": "code",
   "execution_count": 328,
   "id": "1c7cc6ad",
   "metadata": {},
   "outputs": [],
   "source": [
    "import pandas as pd\n",
    "import matplotlib.pyplot as plt"
   ]
  },
  {
   "cell_type": "code",
   "execution_count": 329,
   "id": "f30d2e4d",
   "metadata": {},
   "outputs": [],
   "source": [
    "sales_report= pd.read_excel('2021jun15-oct.xlsx',engine='openpyxl',header=0,skiprows=5)"
   ]
  },
  {
   "cell_type": "code",
   "execution_count": 330,
   "id": "1cf2b5c2",
   "metadata": {},
   "outputs": [
    {
     "name": "stdout",
     "output_type": "stream",
     "text": [
      "                           Product                Category        Unit  \\\n",
      "0                              NaN                 Service        Item   \n",
      "1                    1 Water 355ml  Non Alcoholic Beverage        Item   \n",
      "2  123 Organic Anejo Tequila 750ml                 Tequila        Item   \n",
      "3  123 Organic Anejo Tequila 750ml                 Tequila        Item   \n",
      "4  123 Organic Anejo Tequila 750ml                 Tequila  Item Total   \n",
      "\n",
      "            Customer  Quantity  Invoice    Sale      COGS   Profit  \n",
      "0  Customer Square 1         2    54.13   50.00    0.0000  50.0000  \n",
      "1  Customer Square 1         1     1.50    1.50    0.1246   1.3754  \n",
      "2  Customer Square 1         2   129.88  119.98   88.1300  31.8500  \n",
      "3  Customer Square 2         4   259.76  239.96  176.2600  63.7000  \n",
      "4                NaN         6   389.64  359.94  264.3900  95.5500  \n"
     ]
    }
   ],
   "source": [
    "print(sales_report.head())"
   ]
  },
  {
   "cell_type": "code",
   "execution_count": 331,
   "id": "626c910b",
   "metadata": {},
   "outputs": [],
   "source": [
    "list_of_retail_stores = ['Customer Square 1','Customer Square 2','Customer Square 3'] #use this below in future version"
   ]
  },
  {
   "cell_type": "code",
   "execution_count": 332,
   "id": "54fbf400",
   "metadata": {},
   "outputs": [],
   "source": [
    "sales_retail = sales_report[(sales_report['Customer'] == 'Customer Square 1') | (sales_report['Customer'] == 'Customer Square 2') | (sales_report['Customer'] == 'Customer Square 3')]"
   ]
  },
  {
   "cell_type": "code",
   "execution_count": 333,
   "id": "54742ca8",
   "metadata": {},
   "outputs": [],
   "source": [
    "sales_pivot = sales_retail.pivot(columns='Customer',index='Product',values='Quantity')\n",
    "sales_pivot.index.name = sales_pivot.columns.name = None\n",
    "sales_pivot.reset_index(inplace=True)\n",
    "sales = sales_pivot.rename(columns={'index':'Product','Customer Square 1':'AP','Customer Square 2':'PV','Customer Square 3':'OH'})\n",
    "#print(sales.columns)"
   ]
  },
  {
   "cell_type": "code",
   "execution_count": 334,
   "id": "7e84aba2",
   "metadata": {},
   "outputs": [],
   "source": [
    "#print(sales_report.loc[sales_report['Product'] == 'Zwack Liqueur 750ml'].head(1).Category.to_string(index=False))\n",
    "find_category = lambda x : sales_report.loc[sales_report['Product'] == x['Product']].head(1).Category.to_string(index=False)\n",
    "#find_price = lambda x : sales_report.loc[sales_report['Retail']]#requires another imported worksheet you'd generate in Dear"
   ]
  },
  {
   "cell_type": "code",
   "execution_count": 335,
   "id": "7ba1b080",
   "metadata": {},
   "outputs": [
    {
     "data": {
      "text/html": [
       "<div>\n",
       "<style scoped>\n",
       "    .dataframe tbody tr th:only-of-type {\n",
       "        vertical-align: middle;\n",
       "    }\n",
       "\n",
       "    .dataframe tbody tr th {\n",
       "        vertical-align: top;\n",
       "    }\n",
       "\n",
       "    .dataframe thead th {\n",
       "        text-align: right;\n",
       "    }\n",
       "</style>\n",
       "<table border=\"1\" class=\"dataframe\">\n",
       "  <thead>\n",
       "    <tr style=\"text-align: right;\">\n",
       "      <th></th>\n",
       "      <th>Product</th>\n",
       "      <th>AP</th>\n",
       "      <th>PV</th>\n",
       "      <th>OH</th>\n",
       "      <th>Category</th>\n",
       "      <th>Total</th>\n",
       "    </tr>\n",
       "  </thead>\n",
       "  <tbody>\n",
       "    <tr>\n",
       "      <th>0</th>\n",
       "      <td>0</td>\n",
       "      <td>2.0</td>\n",
       "      <td>0.0</td>\n",
       "      <td>0.0</td>\n",
       "      <td>Series([], )</td>\n",
       "      <td>2.0</td>\n",
       "    </tr>\n",
       "    <tr>\n",
       "      <th>1</th>\n",
       "      <td>1 Water 355ml</td>\n",
       "      <td>1.0</td>\n",
       "      <td>0.0</td>\n",
       "      <td>0.0</td>\n",
       "      <td>Non Alcoholic Beverage</td>\n",
       "      <td>1.0</td>\n",
       "    </tr>\n",
       "    <tr>\n",
       "      <th>2</th>\n",
       "      <td>123 Organic Anejo Tequila 750ml</td>\n",
       "      <td>2.0</td>\n",
       "      <td>4.0</td>\n",
       "      <td>0.0</td>\n",
       "      <td>Tequila</td>\n",
       "      <td>6.0</td>\n",
       "    </tr>\n",
       "    <tr>\n",
       "      <th>3</th>\n",
       "      <td>123 Organic Blanco Tequila 750ml</td>\n",
       "      <td>1.0</td>\n",
       "      <td>4.0</td>\n",
       "      <td>0.0</td>\n",
       "      <td>Tequila</td>\n",
       "      <td>5.0</td>\n",
       "    </tr>\n",
       "    <tr>\n",
       "      <th>4</th>\n",
       "      <td>123 Organic Reposado Tequila 750ml</td>\n",
       "      <td>2.0</td>\n",
       "      <td>3.0</td>\n",
       "      <td>0.0</td>\n",
       "      <td>Tequila</td>\n",
       "      <td>5.0</td>\n",
       "    </tr>\n",
       "    <tr>\n",
       "      <th>...</th>\n",
       "      <td>...</td>\n",
       "      <td>...</td>\n",
       "      <td>...</td>\n",
       "      <td>...</td>\n",
       "      <td>...</td>\n",
       "      <td>...</td>\n",
       "    </tr>\n",
       "    <tr>\n",
       "      <th>3667</th>\n",
       "      <td>Zirbenz Stone Pine Liqueur 750ml</td>\n",
       "      <td>1.0</td>\n",
       "      <td>0.0</td>\n",
       "      <td>1.0</td>\n",
       "      <td>Liqueur</td>\n",
       "      <td>2.0</td>\n",
       "    </tr>\n",
       "    <tr>\n",
       "      <th>3668</th>\n",
       "      <td>Zubrowka Bison Grass Vodka 750ml</td>\n",
       "      <td>6.0</td>\n",
       "      <td>18.0</td>\n",
       "      <td>5.0</td>\n",
       "      <td>Vodka</td>\n",
       "      <td>29.0</td>\n",
       "    </tr>\n",
       "    <tr>\n",
       "      <th>3669</th>\n",
       "      <td>Zucca Rabarbaro 750ml</td>\n",
       "      <td>2.0</td>\n",
       "      <td>6.0</td>\n",
       "      <td>1.0</td>\n",
       "      <td>Amaro</td>\n",
       "      <td>9.0</td>\n",
       "    </tr>\n",
       "    <tr>\n",
       "      <th>3670</th>\n",
       "      <td>Zwack Liqueur 750ml</td>\n",
       "      <td>1.0</td>\n",
       "      <td>3.0</td>\n",
       "      <td>1.0</td>\n",
       "      <td>Amaro</td>\n",
       "      <td>5.0</td>\n",
       "    </tr>\n",
       "    <tr>\n",
       "      <th>3671</th>\n",
       "      <td>eGift Card</td>\n",
       "      <td>0.0</td>\n",
       "      <td>0.0</td>\n",
       "      <td>1.0</td>\n",
       "      <td>Service</td>\n",
       "      <td>1.0</td>\n",
       "    </tr>\n",
       "  </tbody>\n",
       "</table>\n",
       "<p>3672 rows × 6 columns</p>\n",
       "</div>"
      ],
      "text/plain": [
       "                                 Product   AP    PV   OH  \\\n",
       "0                                      0  2.0   0.0  0.0   \n",
       "1                          1 Water 355ml  1.0   0.0  0.0   \n",
       "2        123 Organic Anejo Tequila 750ml  2.0   4.0  0.0   \n",
       "3       123 Organic Blanco Tequila 750ml  1.0   4.0  0.0   \n",
       "4     123 Organic Reposado Tequila 750ml  2.0   3.0  0.0   \n",
       "...                                  ...  ...   ...  ...   \n",
       "3667    Zirbenz Stone Pine Liqueur 750ml  1.0   0.0  1.0   \n",
       "3668    Zubrowka Bison Grass Vodka 750ml  6.0  18.0  5.0   \n",
       "3669               Zucca Rabarbaro 750ml  2.0   6.0  1.0   \n",
       "3670                 Zwack Liqueur 750ml  1.0   3.0  1.0   \n",
       "3671                          eGift Card  0.0   0.0  1.0   \n",
       "\n",
       "                    Category  Total  \n",
       "0               Series([], )    2.0  \n",
       "1     Non Alcoholic Beverage    1.0  \n",
       "2                    Tequila    6.0  \n",
       "3                    Tequila    5.0  \n",
       "4                    Tequila    5.0  \n",
       "...                      ...    ...  \n",
       "3667                 Liqueur    2.0  \n",
       "3668                   Vodka   29.0  \n",
       "3669                   Amaro    9.0  \n",
       "3670                   Amaro    5.0  \n",
       "3671                 Service    1.0  \n",
       "\n",
       "[3672 rows x 6 columns]"
      ]
     },
     "execution_count": 335,
     "metadata": {},
     "output_type": "execute_result"
    }
   ],
   "source": [
    "sales['Category'] = sales.apply(find_category,axis=1)\n",
    "sales.fillna(0,inplace=True)#replace null values anywhere with zero\n",
    "sales['Total'] = sales.AP + sales.PV + sales.OH\n",
    "#print(sales.head(10))\n",
    "sales"
   ]
  },
  {
   "cell_type": "code",
   "execution_count": 336,
   "id": "02acc16c",
   "metadata": {},
   "outputs": [
    {
     "name": "stdout",
     "output_type": "stream",
     "text": [
      "['Series([], )' 'Non Alcoholic Beverage' 'Tequila' 'Bubbles'\n",
      " 'Whiskey Bourbon/American' 'Vodka' 'Mixer' 'Craft Beer' 'Red New World'\n",
      " 'Mezcal' 'Bag' 'Liqueur' 'Whiskey Mexican' 'Whiskey Scotch' 'Bar Tools'\n",
      " 'Glassware' 'Absinthe' 'Garnish' 'Rum' 'Retail' 'Whiskey Japanese'\n",
      " 'Fortified' 'Gin' 'Bitters' 'Amaro' 'Books' 'White' 'Tobacco'\n",
      " 'Red Old World' 'Whiskey American Single Malt' 'Whiskey Rye' 'Cider'\n",
      " 'Cachaca' 'Ice' 'Rose' 'Orange Wine' 'Shochu' 'RTD' 'Brandy' 'Imp Beer'\n",
      " 'Snacks' 'Whiskey French' 'Aquavit' 'Dom Beer' 'Whiskey Irish' 'Cognac'\n",
      " 'Whiskey Canadian' 'Soju' 'Mead' 'Calvados' 'Sake' 'Sotol' 'Service'\n",
      " 'Whisky German' 'Red' 'Fruit' 'Other' 'Whiskey Taiwaneese' 'Pisco'\n",
      " 'Raicilla' 'Grappa' 'Baijiu' 'Whiskey Indian' 'Bacanora' 'Pox' 'Singani'\n",
      " 'Charanda']\n",
      "                                       Product    AP    PV   OH Category  \\\n",
      "1394             Field Recordings Freddo 750ml   5.0  24.0  7.0      Red   \n",
      "1396  Field Recordings PPP Sparkling Red 750ml  10.0  31.0  0.0      Red   \n",
      "2345              Masso Antico Primitivo 750ml   0.0   2.0  0.0      Red   \n",
      "\n",
      "      Total  \n",
      "1394   36.0  \n",
      "1396   41.0  \n",
      "2345    2.0  \n"
     ]
    }
   ],
   "source": [
    "print(sales.Category.unique())\n",
    "\n",
    "wine_list = ['Bubbles','Red New World','Red Old World','Orange Wine','White','Red']\n",
    "bad_cats = ['Red']#add whatever else is bad, manually edit in the next cell\n",
    "print(sales[sales['Category'].isin(bad_cats)])\n",
    "#sales[sales['Category'] == 'Red']"
   ]
  },
  {
   "cell_type": "code",
   "execution_count": 337,
   "id": "ca758add",
   "metadata": {},
   "outputs": [],
   "source": [
    "sales.at[1394,'Category'] = 'Red New World'\n",
    "sales.at[1396,'Category'] = 'Red New World'\n",
    "sales.at[2345,'Category'] = 'Red Old World'"
   ]
  },
  {
   "cell_type": "code",
   "execution_count": 338,
   "id": "17b52c3b",
   "metadata": {},
   "outputs": [
    {
     "data": {
      "text/plain": [
       "<AxesSubplot:ylabel='Total'>"
      ]
     },
     "execution_count": 338,
     "metadata": {},
     "output_type": "execute_result"
    },
    {
     "data": {
      "image/png": "[encoded data removed]",
      "text/plain": [
       "<Figure size 432x288 with 1 Axes>"
      ]
     },
     "metadata": {},
     "output_type": "display_data"
    }
   ],
   "source": [
    "sales = sales[sales['Category'] != 'Series([], )']\n",
    "by_cat = sales.groupby('Category').sum().reset_index()\n",
    "by_cat['Total'] = by_cat.AP + by_cat.PV + by_cat.OH\n",
    "#print(by_cat.head(20))\n",
    "by_cat.index = by_cat.Category.to_list()\n",
    "#print(by_cat.index)\n",
    "by_cat[by_cat.Category.isin(wine_list)].plot.pie(y='Total')"
   ]
  },
  {
   "cell_type": "code",
   "execution_count": 339,
   "id": "c1950180",
   "metadata": {},
   "outputs": [
    {
     "data": {
      "text/plain": [
       "<AxesSubplot:ylabel='None'>"
      ]
     },
     "execution_count": 339,
     "metadata": {},
     "output_type": "execute_result"
    },
    {
     "data": {
      "image/png": "[encoded data removed]",
      "text/plain": [
       "<Figure size 432x288 with 1 Axes>"
      ]
     },
     "metadata": {},
     "output_type": "display_data"
    }
   ],
   "source": [
    "sales[sales.columns[1:4]].sum().plot.pie()"
   ]
  },
  {
   "cell_type": "code",
   "execution_count": 356,
   "id": "3c27d818",
   "metadata": {},
   "outputs": [
    {
     "name": "stdout",
     "output_type": "stream",
     "text": [
      "                              Product      AP      PV      OH  \\\n",
      "1099                         Discount  1747.0  2360.0  1379.0   \n",
      "1408                    Fireball 50ml  1772.0  1593.0   562.0   \n",
      "2513  New Amsterdam Pink Whitney 50ml   872.0   574.0   246.0   \n",
      "3417               Tullamore Dew 50ml   185.0   244.0   213.0   \n",
      "1012             Deep Eddy Lemon 50ml   140.0   308.0   198.0   \n",
      "1021             Deep Eddy Peach 50ml    30.0    71.0   174.0   \n",
      "1015              Deep Eddy Lime 50ml    82.0   303.0   161.0   \n",
      "1023             Deep Eddy Plain 50ml    30.0    76.0   148.0   \n",
      "35                    99 Bananas 50ml   389.0    75.0   131.0   \n",
      "2461           Monopolowa Vodka 375ml   162.0    57.0   120.0   \n",
      "3555    Western Son Prickly Pear 50ml     0.0     0.0    76.0   \n",
      "3557      Western Son Watermelon 50ml     0.0     0.0    72.0   \n",
      "3366                Titos Vodka 1.75L   149.0   256.0    70.0   \n",
      "563                    Budweiser 25oz   311.0     0.0    70.0   \n",
      "3550       Western Son Blueberry 50ml     0.0     0.0    69.0   \n",
      "3358             Tintero Rosato 750ml    39.0    42.0    67.0   \n",
      "1579                Gluten Free Limes     0.0     0.0    66.0   \n",
      "34             99 Apple Schnapps 50ml   242.0    22.0    64.0   \n",
      "660                 Carro Tinto 750ml     8.0    13.0    62.0   \n",
      "2246              Lunazul Blanco 50ml   295.0   145.0    59.0   \n",
      "\n",
      "                      Category   Total  \n",
      "1099                   Service  5486.0  \n",
      "1408  Whiskey Bourbon/American  3927.0  \n",
      "2513                     Vodka  1692.0  \n",
      "3417             Whiskey Irish   642.0  \n",
      "1012                     Vodka   646.0  \n",
      "1021                     Vodka   275.0  \n",
      "1015                     Vodka   546.0  \n",
      "1023                     Vodka   254.0  \n",
      "35                     Liqueur   595.0  \n",
      "2461                     Vodka   339.0  \n",
      "3555                     Vodka    76.0  \n",
      "3557                     Vodka    72.0  \n",
      "3366                     Vodka   475.0  \n",
      "563                   Dom Beer   381.0  \n",
      "3550                     Vodka    69.0  \n",
      "3358                      Rose   148.0  \n",
      "1579                     Fruit    66.0  \n",
      "34                     Liqueur   328.0  \n",
      "660              Red Old World    83.0  \n",
      "2246                   Tequila   499.0  \n"
     ]
    }
   ],
   "source": [
    "print(sales.sort_values(by='OH',ascending=False).head(20))"
   ]
  },
  {
   "cell_type": "code",
   "execution_count": 355,
   "id": "0aa577fa",
   "metadata": {},
   "outputs": [
    {
     "name": "stdout",
     "output_type": "stream",
     "text": [
      "                                     Product     AP     PV    OH  \\\n",
      "371        Better Half Sauvignon Blanc 750ml  134.0  187.0  34.0   \n",
      "3645                      Wycliff Brut 750ml   57.0  165.0   0.0   \n",
      "1249                  El Jefe Tempranillo 1L   63.0   49.0  19.0   \n",
      "145   Ant Moore Sauvignon Blanc Estate 750mL   31.0   42.0  40.0   \n",
      "89            Alias Cabernet Sauvignon 750ml   20.0   79.0   0.0   \n",
      "\n",
      "           Category  Total  \n",
      "371           White  355.0  \n",
      "3645        Bubbles  222.0  \n",
      "1249  Red Old World  131.0  \n",
      "145           White  113.0  \n",
      "89    Red New World   99.0  \n"
     ]
    },
    {
     "ename": "PermissionError",
     "evalue": "[Errno 13] Permission denied: 'winetocloseout.csv'",
     "output_type": "error",
     "traceback": [
      "\u001b[1;31m---------------------------------------------------------------------------\u001b[0m",
      "\u001b[1;31mPermissionError\u001b[0m                           Traceback (most recent call last)",
      "\u001b[1;32m<ipython-input-355-40b8b66b7741>\u001b[0m in \u001b[0;36m<module>\u001b[1;34m\u001b[0m\n\u001b[0;32m      1\u001b[0m \u001b[0mprint\u001b[0m\u001b[1;33m(\u001b[0m\u001b[0msales\u001b[0m\u001b[1;33m[\u001b[0m\u001b[0msales\u001b[0m\u001b[1;33m[\u001b[0m\u001b[1;34m'Category'\u001b[0m\u001b[1;33m]\u001b[0m\u001b[1;33m.\u001b[0m\u001b[0misin\u001b[0m\u001b[1;33m(\u001b[0m\u001b[0mwine_list\u001b[0m\u001b[1;33m)\u001b[0m\u001b[1;33m]\u001b[0m\u001b[1;33m.\u001b[0m\u001b[0msort_values\u001b[0m\u001b[1;33m(\u001b[0m\u001b[0mby\u001b[0m\u001b[1;33m=\u001b[0m\u001b[1;34m'Total'\u001b[0m\u001b[1;33m,\u001b[0m\u001b[0mascending\u001b[0m\u001b[1;33m=\u001b[0m\u001b[1;32mFalse\u001b[0m\u001b[1;33m)\u001b[0m\u001b[1;33m.\u001b[0m\u001b[0mhead\u001b[0m\u001b[1;33m(\u001b[0m\u001b[1;33m)\u001b[0m\u001b[1;33m)\u001b[0m\u001b[1;33m\u001b[0m\u001b[1;33m\u001b[0m\u001b[0m\n\u001b[1;32m----> 2\u001b[1;33m \u001b[0msales\u001b[0m\u001b[1;33m[\u001b[0m\u001b[0msales\u001b[0m\u001b[1;33m[\u001b[0m\u001b[1;34m'Category'\u001b[0m\u001b[1;33m]\u001b[0m\u001b[1;33m.\u001b[0m\u001b[0misin\u001b[0m\u001b[1;33m(\u001b[0m\u001b[0mwine_list\u001b[0m\u001b[1;33m)\u001b[0m\u001b[1;33m]\u001b[0m\u001b[1;33m.\u001b[0m\u001b[0msort_values\u001b[0m\u001b[1;33m(\u001b[0m\u001b[0mby\u001b[0m\u001b[1;33m=\u001b[0m\u001b[1;34m'Total'\u001b[0m\u001b[1;33m,\u001b[0m\u001b[0mascending\u001b[0m\u001b[1;33m=\u001b[0m\u001b[1;32mFalse\u001b[0m\u001b[1;33m)\u001b[0m\u001b[1;33m.\u001b[0m\u001b[0mto_csv\u001b[0m\u001b[1;33m(\u001b[0m\u001b[1;34m'winetocloseout.csv'\u001b[0m\u001b[1;33m,\u001b[0m\u001b[0mindex\u001b[0m\u001b[1;33m=\u001b[0m\u001b[1;32mFalse\u001b[0m\u001b[1;33m)\u001b[0m\u001b[1;33m\u001b[0m\u001b[1;33m\u001b[0m\u001b[0m\n\u001b[0m\u001b[0;32m      3\u001b[0m \u001b[1;31m#sales\u001b[0m\u001b[1;33m\u001b[0m\u001b[1;33m\u001b[0m\u001b[1;33m\u001b[0m\u001b[0m\n",
      "\u001b[1;32m~\\miniconda3\\lib\\site-packages\\pandas\\core\\generic.py\u001b[0m in \u001b[0;36mto_csv\u001b[1;34m(self, path_or_buf, sep, na_rep, float_format, columns, header, index, index_label, mode, encoding, compression, quoting, quotechar, line_terminator, chunksize, date_format, doublequote, escapechar, decimal, errors, storage_options)\u001b[0m\n\u001b[0;32m   3464\u001b[0m         )\n\u001b[0;32m   3465\u001b[0m \u001b[1;33m\u001b[0m\u001b[0m\n\u001b[1;32m-> 3466\u001b[1;33m         return DataFrameRenderer(formatter).to_csv(\n\u001b[0m\u001b[0;32m   3467\u001b[0m             \u001b[0mpath_or_buf\u001b[0m\u001b[1;33m,\u001b[0m\u001b[1;33m\u001b[0m\u001b[1;33m\u001b[0m\u001b[0m\n\u001b[0;32m   3468\u001b[0m             \u001b[0mline_terminator\u001b[0m\u001b[1;33m=\u001b[0m\u001b[0mline_terminator\u001b[0m\u001b[1;33m,\u001b[0m\u001b[1;33m\u001b[0m\u001b[1;33m\u001b[0m\u001b[0m\n",
      "\u001b[1;32m~\\miniconda3\\lib\\site-packages\\pandas\\io\\formats\\format.py\u001b[0m in \u001b[0;36mto_csv\u001b[1;34m(self, path_or_buf, encoding, sep, columns, index_label, mode, compression, quoting, quotechar, line_terminator, chunksize, date_format, doublequote, escapechar, errors, storage_options)\u001b[0m\n\u001b[0;32m   1103\u001b[0m             \u001b[0mformatter\u001b[0m\u001b[1;33m=\u001b[0m\u001b[0mself\u001b[0m\u001b[1;33m.\u001b[0m\u001b[0mfmt\u001b[0m\u001b[1;33m,\u001b[0m\u001b[1;33m\u001b[0m\u001b[1;33m\u001b[0m\u001b[0m\n\u001b[0;32m   1104\u001b[0m         )\n\u001b[1;32m-> 1105\u001b[1;33m         \u001b[0mcsv_formatter\u001b[0m\u001b[1;33m.\u001b[0m\u001b[0msave\u001b[0m\u001b[1;33m(\u001b[0m\u001b[1;33m)\u001b[0m\u001b[1;33m\u001b[0m\u001b[1;33m\u001b[0m\u001b[0m\n\u001b[0m\u001b[0;32m   1106\u001b[0m \u001b[1;33m\u001b[0m\u001b[0m\n\u001b[0;32m   1107\u001b[0m         \u001b[1;32mif\u001b[0m \u001b[0mcreated_buffer\u001b[0m\u001b[1;33m:\u001b[0m\u001b[1;33m\u001b[0m\u001b[1;33m\u001b[0m\u001b[0m\n",
      "\u001b[1;32m~\\miniconda3\\lib\\site-packages\\pandas\\io\\formats\\csvs.py\u001b[0m in \u001b[0;36msave\u001b[1;34m(self)\u001b[0m\n\u001b[0;32m    235\u001b[0m         \"\"\"\n\u001b[0;32m    236\u001b[0m         \u001b[1;31m# apply compression and byte/text conversion\u001b[0m\u001b[1;33m\u001b[0m\u001b[1;33m\u001b[0m\u001b[1;33m\u001b[0m\u001b[0m\n\u001b[1;32m--> 237\u001b[1;33m         with get_handle(\n\u001b[0m\u001b[0;32m    238\u001b[0m             \u001b[0mself\u001b[0m\u001b[1;33m.\u001b[0m\u001b[0mfilepath_or_buffer\u001b[0m\u001b[1;33m,\u001b[0m\u001b[1;33m\u001b[0m\u001b[1;33m\u001b[0m\u001b[0m\n\u001b[0;32m    239\u001b[0m             \u001b[0mself\u001b[0m\u001b[1;33m.\u001b[0m\u001b[0mmode\u001b[0m\u001b[1;33m,\u001b[0m\u001b[1;33m\u001b[0m\u001b[1;33m\u001b[0m\u001b[0m\n",
      "\u001b[1;32m~\\miniconda3\\lib\\site-packages\\pandas\\io\\common.py\u001b[0m in \u001b[0;36mget_handle\u001b[1;34m(path_or_buf, mode, encoding, compression, memory_map, is_text, errors, storage_options)\u001b[0m\n\u001b[0;32m    700\u001b[0m         \u001b[1;32mif\u001b[0m \u001b[0mioargs\u001b[0m\u001b[1;33m.\u001b[0m\u001b[0mencoding\u001b[0m \u001b[1;32mand\u001b[0m \u001b[1;34m\"b\"\u001b[0m \u001b[1;32mnot\u001b[0m \u001b[1;32min\u001b[0m \u001b[0mioargs\u001b[0m\u001b[1;33m.\u001b[0m\u001b[0mmode\u001b[0m\u001b[1;33m:\u001b[0m\u001b[1;33m\u001b[0m\u001b[1;33m\u001b[0m\u001b[0m\n\u001b[0;32m    701\u001b[0m             \u001b[1;31m# Encoding\u001b[0m\u001b[1;33m\u001b[0m\u001b[1;33m\u001b[0m\u001b[1;33m\u001b[0m\u001b[0m\n\u001b[1;32m--> 702\u001b[1;33m             handle = open(\n\u001b[0m\u001b[0;32m    703\u001b[0m                 \u001b[0mhandle\u001b[0m\u001b[1;33m,\u001b[0m\u001b[1;33m\u001b[0m\u001b[1;33m\u001b[0m\u001b[0m\n\u001b[0;32m    704\u001b[0m                 \u001b[0mioargs\u001b[0m\u001b[1;33m.\u001b[0m\u001b[0mmode\u001b[0m\u001b[1;33m,\u001b[0m\u001b[1;33m\u001b[0m\u001b[1;33m\u001b[0m\u001b[0m\n",
      "\u001b[1;31mPermissionError\u001b[0m: [Errno 13] Permission denied: 'winetocloseout.csv'"
     ]
    }
   ],
   "source": [
    "print(sales[sales['Category'].isin(wine_list)].sort_values(by='Total',ascending=False).head())\n",
    "sales[sales['Category'].isin(wine_list)].sort_values(by='Total',ascending=False).to_csv('winetocloseout.csv',index=False)\n",
    "#sales"
   ]
  },
  {
   "cell_type": "code",
   "execution_count": null,
   "id": "0863ad6b",
   "metadata": {},
   "outputs": [],
   "source": []
  }
 ],
 "metadata": {
  "kernelspec": {
   "display_name": "Python 3",
   "language": "python",
   "name": "python3"
  },
  "language_info": {
   "codemirror_mode": {
    "name": "ipython",
    "version": 3
   },
   "file_extension": ".py",
   "mimetype": "text/x-python",
   "name": "python",
   "nbconvert_exporter": "python",
   "pygments_lexer": "ipython3",
   "version": "3.9.5"
  }
 },
 "nbformat": 4,
 "nbformat_minor": 5
}
