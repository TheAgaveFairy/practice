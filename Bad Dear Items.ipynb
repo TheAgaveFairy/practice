{
 "cells": [
  {
   "cell_type": "code",
   "execution_count": 97,
   "id": "dcf5d17f",
   "metadata": {},
   "outputs": [],
   "source": [
    "import pandas as pd\n",
    "#import matplotlib.pyplot as plt\n",
    "#import matplotlib.dates as mdates\n",
    "import numpy as np\n",
    "from datetime import datetime\n",
    "from datetime import date"
   ]
  },
  {
   "cell_type": "markdown",
   "id": "4fc4e81c",
   "metadata": {},
   "source": [
    "### Declare User Variables"
   ]
  },
  {
   "cell_type": "code",
   "execution_count": 98,
   "id": "9f349084",
   "metadata": {},
   "outputs": [],
   "source": [
    "margin_min = 1.15 #play with these\n",
    "margin_max = 1.85 #play with these\n",
    "\n",
    "pd.options.display.max_columns = 50"
   ]
  },
  {
   "cell_type": "markdown",
   "id": "21520393",
   "metadata": {},
   "source": [
    "### Setup ExcelWriter"
   ]
  },
  {
   "cell_type": "code",
   "execution_count": 99,
   "id": "cb158d4f",
   "metadata": {},
   "outputs": [],
   "source": [
    "writer = pd.ExcelWriter('outputs/BadDearItemsProject.xlsx')"
   ]
  },
  {
   "cell_type": "markdown",
   "id": "f8408e6f",
   "metadata": {},
   "source": [
    "### Import CSV \"Products without descriptions\""
   ]
  },
  {
   "cell_type": "code",
   "execution_count": 100,
   "id": "8826aa20",
   "metadata": {},
   "outputs": [
    {
     "data": {
      "text/html": [
       "<div>\n",
       "<style scoped>\n",
       "    .dataframe tbody tr th:only-of-type {\n",
       "        vertical-align: middle;\n",
       "    }\n",
       "\n",
       "    .dataframe tbody tr th {\n",
       "        vertical-align: top;\n",
       "    }\n",
       "\n",
       "    .dataframe thead th {\n",
       "        text-align: right;\n",
       "    }\n",
       "</style>\n",
       "<table border=\"1\" class=\"dataframe\">\n",
       "  <thead>\n",
       "    <tr style=\"text-align: right;\">\n",
       "      <th></th>\n",
       "      <th>ProductCode</th>\n",
       "      <th>Name</th>\n",
       "      <th>Category</th>\n",
       "      <th>Brand</th>\n",
       "      <th>Type</th>\n",
       "      <th>FixedAssetType</th>\n",
       "      <th>CostingMethod</th>\n",
       "      <th>Length</th>\n",
       "      <th>Width</th>\n",
       "      <th>Height</th>\n",
       "      <th>Weight</th>\n",
       "      <th>CartonLength</th>\n",
       "      <th>CartonWidth</th>\n",
       "      <th>CartonHeight</th>\n",
       "      <th>CartonInnerQuantity</th>\n",
       "      <th>CartonQuantity</th>\n",
       "      <th>CartonVolume</th>\n",
       "      <th>WeightUnits</th>\n",
       "      <th>DimensionUnits</th>\n",
       "      <th>Barcode</th>\n",
       "      <th>MinimumBeforeReorder</th>\n",
       "      <th>ReorderQuantity</th>\n",
       "      <th>DefaultLocation</th>\n",
       "      <th>LastSuppliedBy</th>\n",
       "      <th>SupplierProductCode</th>\n",
       "      <th>...</th>\n",
       "      <th>StockLocator</th>\n",
       "      <th>PurchaseTaxRule</th>\n",
       "      <th>SaleTaxRule</th>\n",
       "      <th>Status</th>\n",
       "      <th>Description</th>\n",
       "      <th>ShortDescription</th>\n",
       "      <th>Sellable</th>\n",
       "      <th>PickZones</th>\n",
       "      <th>AlwaysShowQuantity</th>\n",
       "      <th>WarrantySetupName</th>\n",
       "      <th>InternalNote</th>\n",
       "      <th>ProductionBOM</th>\n",
       "      <th>MakeToOrderBom</th>\n",
       "      <th>QuantityToProduce</th>\n",
       "      <th>IsAccountingDimensionEnabled</th>\n",
       "      <th>DimensionAttribute1</th>\n",
       "      <th>DimensionAttribute2</th>\n",
       "      <th>DimensionAttribute3</th>\n",
       "      <th>DimensionAttribute4</th>\n",
       "      <th>DimensionAttribute5</th>\n",
       "      <th>DimensionAttribute6</th>\n",
       "      <th>DimensionAttribute7</th>\n",
       "      <th>DimensionAttribute8</th>\n",
       "      <th>DimensionAttribute9</th>\n",
       "      <th>DimensionAttribute10</th>\n",
       "    </tr>\n",
       "  </thead>\n",
       "  <tbody>\n",
       "    <tr>\n",
       "      <th>0</th>\n",
       "      <td>NaN</td>\n",
       "      <td>NaN</td>\n",
       "      <td>Service</td>\n",
       "      <td>NaN</td>\n",
       "      <td>Service</td>\n",
       "      <td>NaN</td>\n",
       "      <td>FIFO</td>\n",
       "      <td>0.0</td>\n",
       "      <td>0.0</td>\n",
       "      <td>0.0</td>\n",
       "      <td>0.0</td>\n",
       "      <td>0.0</td>\n",
       "      <td>0.0</td>\n",
       "      <td>0.0</td>\n",
       "      <td>0.0</td>\n",
       "      <td>0.0</td>\n",
       "      <td>0.0</td>\n",
       "      <td>NaN</td>\n",
       "      <td>NaN</td>\n",
       "      <td>NaN</td>\n",
       "      <td>0.0</td>\n",
       "      <td>0.0</td>\n",
       "      <td>Airport</td>\n",
       "      <td>NaN</td>\n",
       "      <td>NaN</td>\n",
       "      <td>...</td>\n",
       "      <td>NaN</td>\n",
       "      <td>NaN</td>\n",
       "      <td>NaN</td>\n",
       "      <td>ACTIVE</td>\n",
       "      <td>NaN</td>\n",
       "      <td>NaN</td>\n",
       "      <td>Yes</td>\n",
       "      <td>NaN</td>\n",
       "      <td>NaN</td>\n",
       "      <td>NaN</td>\n",
       "      <td>NaN</td>\n",
       "      <td>No</td>\n",
       "      <td>No</td>\n",
       "      <td>1.0</td>\n",
       "      <td>False</td>\n",
       "      <td>NaN</td>\n",
       "      <td>NaN</td>\n",
       "      <td>NaN</td>\n",
       "      <td>NaN</td>\n",
       "      <td>NaN</td>\n",
       "      <td>NaN</td>\n",
       "      <td>NaN</td>\n",
       "      <td>NaN</td>\n",
       "      <td>NaN</td>\n",
       "      <td>NaN</td>\n",
       "    </tr>\n",
       "    <tr>\n",
       "      <th>1</th>\n",
       "      <td>777823111113</td>\n",
       "      <td>1 Water 355ml</td>\n",
       "      <td>Non Alcoholic Beverage</td>\n",
       "      <td>NaN</td>\n",
       "      <td>Stock</td>\n",
       "      <td>NaN</td>\n",
       "      <td>FIFO</td>\n",
       "      <td>0.0</td>\n",
       "      <td>0.0</td>\n",
       "      <td>0.0</td>\n",
       "      <td>0.0</td>\n",
       "      <td>0.0</td>\n",
       "      <td>0.0</td>\n",
       "      <td>0.0</td>\n",
       "      <td>0.0</td>\n",
       "      <td>0.0</td>\n",
       "      <td>0.0</td>\n",
       "      <td>oz</td>\n",
       "      <td>in</td>\n",
       "      <td>777823111113</td>\n",
       "      <td>0.0</td>\n",
       "      <td>0.0</td>\n",
       "      <td>Pleasant Valley</td>\n",
       "      <td>Restaurant Depot</td>\n",
       "      <td>NaN</td>\n",
       "      <td>...</td>\n",
       "      <td>NaN</td>\n",
       "      <td>No Tax</td>\n",
       "      <td>No Tax</td>\n",
       "      <td>ACTIVE</td>\n",
       "      <td>NaN</td>\n",
       "      <td>NaN</td>\n",
       "      <td>Yes</td>\n",
       "      <td>NaN</td>\n",
       "      <td>0.0</td>\n",
       "      <td>NaN</td>\n",
       "      <td>NaN</td>\n",
       "      <td>No</td>\n",
       "      <td>No</td>\n",
       "      <td>1.0</td>\n",
       "      <td>False</td>\n",
       "      <td>NaN</td>\n",
       "      <td>NaN</td>\n",
       "      <td>NaN</td>\n",
       "      <td>NaN</td>\n",
       "      <td>NaN</td>\n",
       "      <td>NaN</td>\n",
       "      <td>NaN</td>\n",
       "      <td>NaN</td>\n",
       "      <td>NaN</td>\n",
       "      <td>NaN</td>\n",
       "    </tr>\n",
       "  </tbody>\n",
       "</table>\n",
       "<p>2 rows × 94 columns</p>\n",
       "</div>"
      ],
      "text/plain": [
       "    ProductCode           Name                Category Brand     Type  \\\n",
       "0           NaN            NaN                 Service   NaN  Service   \n",
       "1  777823111113  1 Water 355ml  Non Alcoholic Beverage   NaN    Stock   \n",
       "\n",
       "   FixedAssetType CostingMethod  Length  Width  Height  Weight  CartonLength  \\\n",
       "0             NaN          FIFO     0.0    0.0     0.0     0.0           0.0   \n",
       "1             NaN          FIFO     0.0    0.0     0.0     0.0           0.0   \n",
       "\n",
       "   CartonWidth  CartonHeight  CartonInnerQuantity  CartonQuantity  \\\n",
       "0          0.0           0.0                  0.0             0.0   \n",
       "1          0.0           0.0                  0.0             0.0   \n",
       "\n",
       "   CartonVolume WeightUnits DimensionUnits       Barcode  \\\n",
       "0           0.0         NaN            NaN           NaN   \n",
       "1           0.0          oz             in  777823111113   \n",
       "\n",
       "   MinimumBeforeReorder  ReorderQuantity  DefaultLocation    LastSuppliedBy  \\\n",
       "0                   0.0              0.0          Airport               NaN   \n",
       "1                   0.0              0.0  Pleasant Valley  Restaurant Depot   \n",
       "\n",
       "  SupplierProductCode  ... StockLocator  PurchaseTaxRule  SaleTaxRule  Status  \\\n",
       "0                 NaN  ...          NaN              NaN          NaN  ACTIVE   \n",
       "1                 NaN  ...          NaN           No Tax       No Tax  ACTIVE   \n",
       "\n",
       "   Description  ShortDescription  Sellable  PickZones  AlwaysShowQuantity  \\\n",
       "0          NaN               NaN       Yes        NaN                 NaN   \n",
       "1          NaN               NaN       Yes        NaN                 0.0   \n",
       "\n",
       "   WarrantySetupName  InternalNote  ProductionBOM MakeToOrderBom  \\\n",
       "0                NaN           NaN             No             No   \n",
       "1                NaN           NaN             No             No   \n",
       "\n",
       "  QuantityToProduce IsAccountingDimensionEnabled DimensionAttribute1  \\\n",
       "0               1.0                        False                 NaN   \n",
       "1               1.0                        False                 NaN   \n",
       "\n",
       "   DimensionAttribute2  DimensionAttribute3 DimensionAttribute4  \\\n",
       "0                  NaN                  NaN                 NaN   \n",
       "1                  NaN                  NaN                 NaN   \n",
       "\n",
       "  DimensionAttribute5 DimensionAttribute6 DimensionAttribute7  \\\n",
       "0                 NaN                 NaN                 NaN   \n",
       "1                 NaN                 NaN                 NaN   \n",
       "\n",
       "  DimensionAttribute8 DimensionAttribute9 DimensionAttribute10  \n",
       "0                 NaN                 NaN                  NaN  \n",
       "1                 NaN                 NaN                  NaN  \n",
       "\n",
       "[2 rows x 94 columns]"
      ]
     },
     "execution_count": 100,
     "metadata": {},
     "output_type": "execute_result"
    }
   ],
   "source": [
    "df = pd.read_csv('inputs/InventoryList_2022-11-08.csv',header=0,dtype={'ProductCode': str,'Barcode':str})\n",
    "df.head(2)"
   ]
  },
  {
   "cell_type": "markdown",
   "id": "dc612955",
   "metadata": {},
   "source": [
    "#### Get rid of stupid columns"
   ]
  },
  {
   "cell_type": "code",
   "execution_count": 101,
   "id": "0409f619",
   "metadata": {
    "scrolled": true
   },
   "outputs": [
    {
     "data": {
      "text/plain": [
       "94"
      ]
     },
     "execution_count": 101,
     "metadata": {},
     "output_type": "execute_result"
    }
   ],
   "source": [
    "#df.columns\n",
    "len(df.columns)"
   ]
  },
  {
   "cell_type": "code",
   "execution_count": 102,
   "id": "190325ce",
   "metadata": {},
   "outputs": [
    {
     "data": {
      "text/plain": [
       "40"
      ]
     },
     "execution_count": 102,
     "metadata": {},
     "output_type": "execute_result"
    }
   ],
   "source": [
    "df = df[['ProductCode', 'Name', 'Category', 'Type', 'Barcode',\n",
    "       'MinimumBeforeReorder', 'ReorderQuantity', 'DefaultLocation',\n",
    "       'LastSuppliedBy', 'SupplierProductCode', 'SupplierFixedPrice', 'PriceTier1', 'PriceTier2', 'PriceTier3',\n",
    "       'PriceTier4', 'PriceTier5', 'PriceTier6', 'PriceTier7', 'PriceTier8',\n",
    "       'PriceTier9', 'PriceTier10', 'AverageCost','DefaultUnitOfMeasure', 'InventoryAccount', 'RevenueAccount',\n",
    "       'ExpenseAccount', 'COGSAccount', 'ProductAttributeSet',\n",
    "       'AdditionalAttribute1', 'AdditionalAttribute2', 'AdditionalAttribute3',\n",
    "       'AdditionalAttribute4','PurchaseTaxRule', 'SaleTaxRule', 'Status', 'Description',\n",
    "       'ShortDescription', 'Sellable', 'AlwaysShowQuantity', 'InternalNote']].copy()\n",
    "len(df.columns)"
   ]
  },
  {
   "cell_type": "code",
   "execution_count": 103,
   "id": "3f28ffcb",
   "metadata": {},
   "outputs": [],
   "source": [
    "df[df.Category == 'Service'].to_excel(writer, sheet_name='Merges',index=False)"
   ]
  },
  {
   "cell_type": "markdown",
   "id": "96bae02c",
   "metadata": {},
   "source": [
    "### Bad Categories / Category Setup"
   ]
  },
  {
   "cell_type": "code",
   "execution_count": 104,
   "id": "098d1b6d",
   "metadata": {},
   "outputs": [],
   "source": [
    "all_cats = df.Category.unique()"
   ]
  },
  {
   "cell_type": "code",
   "execution_count": 105,
   "id": "b58034da",
   "metadata": {},
   "outputs": [],
   "source": [
    "alcoholic_cats = ['Craft Beer',\n",
    "       'Tequila', 'Bubbles', 'Whiskey Bourbon/American', 'RTD', 'Vodka',\n",
    "       'Mixer', 'Whiskey Irish', 'Orange Wine', 'Red New World',\n",
    "       'Whiskey Rye', 'Red Zinfandel', 'Mezcal', 'Gin', 'Liqueur',\n",
    "       'Whiskey Mexican', 'Imp Beer', 'Whiskey Scotch',\n",
    "       'Absinthe', 'Fortified', 'Red', 'White', 'Rum',\n",
    "       'Whisky English', 'Red Old World', 'Whiskey Japanese',\n",
    "       'Whiskey Canadian', 'Red Merlot', 'Rose', 'Grappa',\n",
    "       'Amaro', 'Whiskey Indian',\n",
    "       'Whiskey American Single Malt', 'White Sauvignon Blanc', 'Cider',\n",
    "       'Brandy', 'Cachaca', 'Whiskey South African', 'Aquavit',\n",
    "       'Pisco', 'Shochu', 'White Pinot Grigio', 'Dom Beer',\n",
    "       'Whiskey French', 'Red Cabernet Sauvignon', 'Red Tempranillo',\n",
    "       'Cognac', 'Calvados', 'Red Pinot Noir', 'Red Chianti',\n",
    "       'Red Bordeaux', 'White Picpoul', 'Sotol', 'Bacanora', 'Raicilla',\n",
    "       'Red Beaujolais', 'Soju', 'Mead', 'Sake',\n",
    "       'Whisky German', 'Red Gamay', 'White Chenin', 'White Chardonnay',\n",
    "       'White Muscadet', 'Red Blend', 'Whiskey Chech',\n",
    "       'Red Montepulciano', 'Whiskey Taiwaneese', 'White Reisling',\n",
    "       'White wine', 'Red Mourvedre', 'Red Malbec', 'Baijiu', 'Singani',\n",
    "       'Pox', 'Charanda', 'Whiskey Australian', 'White Gewurztraminer',\n",
    "       'Red Primitivo']"
   ]
  },
  {
   "cell_type": "code",
   "execution_count": 106,
   "id": "4cb94f56",
   "metadata": {},
   "outputs": [],
   "source": [
    "bad_categories = ['Red Zinfandel','Red','Red Merlot','White Sauvignon Blanc','White Pinot Grigio','Red Cabernet Sauvignon', 'Red Tempranillo','Red Pinot Noir', 'Red Chianti',\n",
    "       'Red Bordeaux', 'White Picpoul','Red Beaujolais','Red Gamay', 'White Chenin', 'White Chardonnay','White Muscadet', 'Red Blend','Red Montepulciano','White Reisling','White wine', 'Red Mourvedre', 'Red Malbec','White Gewurztraminer','Red Primitivo']\n",
    "good_cats = [x for x in all_cats if x not in bad_categories]\n",
    "#good_cats"
   ]
  },
  {
   "cell_type": "code",
   "execution_count": 107,
   "id": "a95babb7",
   "metadata": {},
   "outputs": [],
   "source": [
    "df[(df.Category.isin(bad_categories)) & (df.Status == \"ACTIVE\")].to_excel(writer, sheet_name='Bad Categories',index=False)"
   ]
  },
  {
   "cell_type": "code",
   "execution_count": null,
   "id": "78490329",
   "metadata": {},
   "outputs": [],
   "source": []
  },
  {
   "cell_type": "markdown",
   "id": "95a3c3f9",
   "metadata": {},
   "source": [
    "# Items with Bad Pricing"
   ]
  },
  {
   "cell_type": "markdown",
   "id": "13ce2e02",
   "metadata": {},
   "source": [
    "### Retail that NEEDS to change"
   ]
  },
  {
   "cell_type": "code",
   "execution_count": 108,
   "id": "ff21d2ed",
   "metadata": {},
   "outputs": [],
   "source": [
    "df[((df.AverageCost > df.PriceTier1) | (df.PriceTier1 == 0.0)) & (df.Status == \"ACTIVE\")].to_excel(writer, sheet_name='Change Retail Prices',index=False)"
   ]
  },
  {
   "cell_type": "markdown",
   "id": "0522c73b",
   "metadata": {},
   "source": [
    "### Wholesale that NEEDS to change"
   ]
  },
  {
   "cell_type": "code",
   "execution_count": 109,
   "id": "756f9662",
   "metadata": {},
   "outputs": [],
   "source": [
    "df[(df.AverageCost > df.PriceTier2) & (df.PriceTier2 != 0) & (df.Status == \"ACTIVE\")].to_excel(writer, sheet_name='Change Wholesale Prices',index=False)"
   ]
  },
  {
   "cell_type": "markdown",
   "id": "be259d2a",
   "metadata": {},
   "source": [
    "### Craft a Margin Column"
   ]
  },
  {
   "cell_type": "code",
   "execution_count": 110,
   "id": "804f639d",
   "metadata": {},
   "outputs": [],
   "source": [
    "df['ProfitRetail'] = df.PriceTier1 - df.AverageCost\n",
    "df['MarginRetail'] = df.ProfitRetail / df.PriceTier1\n",
    "#df[(((df.AverageCost * margin_max) < df.PriceTier1) | ((df.AverageCost * margin_min) > df.PriceTier1)) & (df.Status == \"ACTIVE\")]\n",
    "df[['ProductCode','Name','MarginRetail','Category','SupplierFixedPrice','PriceTier1','PriceTier2','AverageCost','Status','ProfitRetail']].to_excel(writer, sheet_name='Margin Column',index=False)"
   ]
  },
  {
   "cell_type": "markdown",
   "id": "3e289ad7",
   "metadata": {},
   "source": [
    "### Bad Accounting Categories"
   ]
  },
  {
   "cell_type": "code",
   "execution_count": 111,
   "id": "26eb124f",
   "metadata": {},
   "outputs": [],
   "source": [
    "df[(df.InventoryAccount != '_28_: Inventory') | (df.RevenueAccount != '_1_: Sales')  |  (df.ExpenseAccount.notnull()) | (df.COGSAccount != '_26_: Cost of Goods Sold')].to_excel(writer, sheet_name='Suspect Accounting',index=False)"
   ]
  },
  {
   "cell_type": "markdown",
   "id": "29969a1a",
   "metadata": {},
   "source": [
    "### Missing Additional Attributes"
   ]
  },
  {
   "cell_type": "code",
   "execution_count": 112,
   "id": "70251b30",
   "metadata": {},
   "outputs": [],
   "source": [
    "df[((df.AdditionalAttribute1.isnull()) | (df.AdditionalAttribute2.isnull())) & df.Category.isin(alcoholic_cats)].to_excel(writer, sheet_name='Additional Attributes',index=False)"
   ]
  },
  {
   "cell_type": "markdown",
   "id": "9c37a636",
   "metadata": {},
   "source": [
    "### Playing Around"
   ]
  },
  {
   "cell_type": "code",
   "execution_count": 113,
   "id": "e398bb5c",
   "metadata": {},
   "outputs": [],
   "source": [
    "all_cats = df.Category.unique()"
   ]
  },
  {
   "cell_type": "code",
   "execution_count": 114,
   "id": "14a03519",
   "metadata": {},
   "outputs": [],
   "source": [
    "alcoholic_cats = ['Craft Beer',\n",
    "       'Tequila', 'Bubbles', 'Whiskey Bourbon/American', 'RTD', 'Vodka',\n",
    "       'Mixer', 'Whiskey Irish', 'Orange Wine', 'Red New World',\n",
    "       'Whiskey Rye', 'Red Zinfandel', 'Mezcal', 'Gin', 'Liqueur',\n",
    "       'Whiskey Mexican', 'Imp Beer', 'Whiskey Scotch',\n",
    "       'Absinthe', 'Fortified', 'Red', 'White', 'Rum',\n",
    "       'Whisky English', 'Red Old World', 'Whiskey Japanese',\n",
    "       'Whiskey Canadian', 'Red Merlot', 'Rose', 'Grappa',\n",
    "       'Amaro', 'Whiskey Indian',\n",
    "       'Whiskey American Single Malt', 'White Sauvignon Blanc', 'Cider',\n",
    "       'Brandy', 'Cachaca', 'Whiskey South African', 'Aquavit',\n",
    "       'Pisco', 'Shochu', 'White Pinot Grigio', 'Dom Beer',\n",
    "       'Whiskey French', 'Red Cabernet Sauvignon', 'Red Tempranillo',\n",
    "       'Cognac', 'Calvados', 'Red Pinot Noir', 'Red Chianti',\n",
    "       'Red Bordeaux', 'White Picpoul', 'Sotol', 'Bacanora', 'Raicilla',\n",
    "       'Red Beaujolais', 'Soju', 'Mead', 'Sake',\n",
    "       'Whisky German', 'Red Gamay', 'White Chenin', 'White Chardonnay',\n",
    "       'White Muscadet', 'Red Blend', 'Whiskey Chech',\n",
    "       'Red Montepulciano', 'Whiskey Taiwaneese', 'White Reisling',\n",
    "       'White wine', 'Red Mourvedre', 'Red Malbec', 'Baijiu', 'Singani',\n",
    "       'Pox', 'Charanda', 'Whiskey Australian', 'White Gewurztraminer',\n",
    "       'Red Primitivo']"
   ]
  },
  {
   "cell_type": "code",
   "execution_count": 115,
   "id": "2100cdc1",
   "metadata": {},
   "outputs": [],
   "source": [
    "bad_categories = ['Red Zinfandel','Red','Red Merlot','White Sauvignon Blanc','White Pinot Grigio','Red Cabernet Sauvignon', 'Red Tempranillo','Red Pinot Noir', 'Red Chianti',\n",
    "       'Red Bordeaux', 'White Picpoul','Red Beaujolais','Red Gamay', 'White Chenin', 'White Chardonnay','White Muscadet', 'Red Blend','Red Montepulciano','White Reisling','White wine', 'Red Mourvedre', 'Red Malbec','White Gewurztraminer','Red Primitivo']\n",
    "good_cats = [x for x in all_cats if x not in bad_categories]\n",
    "#good_cats"
   ]
  },
  {
   "cell_type": "code",
   "execution_count": 116,
   "id": "56be4792",
   "metadata": {},
   "outputs": [],
   "source": [
    "df[(df.Category.isin(bad_categories)) & (df.Status == \"ACTIVE\")].to_excel(writer, sheet_name='Bad Categories',index=False)"
   ]
  },
  {
   "cell_type": "code",
   "execution_count": null,
   "id": "8095d505",
   "metadata": {},
   "outputs": [],
   "source": []
  },
  {
   "cell_type": "code",
   "execution_count": 117,
   "id": "cbc4ec57",
   "metadata": {},
   "outputs": [],
   "source": [
    "writer.save()"
   ]
  },
  {
   "cell_type": "code",
   "execution_count": 118,
   "id": "2964390e",
   "metadata": {},
   "outputs": [],
   "source": [
    "#Good Categories Static(?)\n",
    "\n",
    "#['Service',\n",
    "# 'Non Alcoholic Beverage',\n",
    "# 'Craft Beer',\n",
    "# 'Bar Tools',\n",
    "# 'Tequila',\n",
    "# 'Bubbles',\n",
    "# 'Whiskey Bourbon/American',\n",
    "# 'RTD',\n",
    "# 'Vodka',\n",
    "# 'Mixer',\n",
    "# 'Whiskey Irish',\n",
    "# 'Orange Wine',\n",
    "# 'Red New World',\n",
    "# 'Whiskey Rye',\n",
    "# 'Mezcal',\n",
    "# 'Gin',\n",
    "# 'Bag',\n",
    "# 'Liqueur',\n",
    "# 'Whiskey Mexican',\n",
    "# 'Imp Beer',\n",
    "# 'Whiskey Scotch',\n",
    "# 'Glassware',\n",
    "# 'Absinthe',\n",
    "# 'Garnish',\n",
    "# 'Books',\n",
    "# 'Fortified',\n",
    "# 'White',\n",
    "# 'Rum',\n",
    "# 'Whisky English',\n",
    "# 'Retail',\n",
    "# 'Red Old World',\n",
    "# 'Whiskey Japanese',\n",
    "# 'Whiskey Canadian',\n",
    "# 'Other',\n",
    "# 'Rose',\n",
    "# 'Grappa',\n",
    "# 'Bitters',\n",
    "# 'Amaro',\n",
    "# 'Tobacco',\n",
    "# 'Whiskey Indian',\n",
    "# 'Whiskey American Single Malt',\n",
    "# 'Cider',\n",
    "# 'Brandy',\n",
    "# 'Cachaca',\n",
    "# 'Ice',\n",
    "# 'Whiskey South African',\n",
    "# 'Aquavit',\n",
    "# 'Pisco',\n",
    "# 'Shochu',\n",
    "# 'Dom Beer',\n",
    "# 'Snacks',\n",
    "# 'Whiskey French',\n",
    "# 'Fruit',\n",
    "# 'Cognac',\n",
    "# 'Calvados',\n",
    "# 'Sotol',\n",
    "# 'Bacanora',\n",
    "# 'Raicilla',\n",
    "# 'Liability',\n",
    "# 'Soju',\n",
    "# 'Mead',\n",
    "# 'Sake',\n",
    "# 'Whisky German',\n",
    "# 'Whiskey Chech',\n",
    "# 'Whiskey Taiwaneese',\n",
    "# 'Baijiu',\n",
    "# 'Singani',\n",
    "# 'Pox',\n",
    "# 'Charanda',\n",
    "# 'Whiskey Australian']"
   ]
  }
 ],
 "metadata": {
  "kernelspec": {
   "display_name": "Python 3 (ipykernel)",
   "language": "python",
   "name": "python3"
  },
  "language_info": {
   "codemirror_mode": {
    "name": "ipython",
    "version": 3
   },
   "file_extension": ".py",
   "mimetype": "text/x-python",
   "name": "python",
   "nbconvert_exporter": "python",
   "pygments_lexer": "ipython3",
   "version": "3.9.7"
  }
 },
 "nbformat": 4,
 "nbformat_minor": 5
}
