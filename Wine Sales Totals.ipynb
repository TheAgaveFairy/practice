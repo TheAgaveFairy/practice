{
 "cells": [
  {
   "cell_type": "code",
   "execution_count": 68,
   "id": "b4272cf8",
   "metadata": {},
   "outputs": [],
   "source": [
    "import pandas as pd\n",
    "#import matplotlib.pyplot as plt\n",
    "#import matplotlib.dates as mdates\n",
    "import numpy as np\n",
    "#from datetime import datetime\n",
    "#from datetime import date"
   ]
  },
  {
   "cell_type": "code",
   "execution_count": 69,
   "id": "e8243e4f",
   "metadata": {},
   "outputs": [
    {
     "name": "stderr",
     "output_type": "stream",
     "text": [
      "C:\\ProgramData\\Anaconda3\\lib\\site-packages\\IPython\\core\\interactiveshell.py:3444: DtypeWarning: Columns (3,25,69,74,79) have mixed types.Specify dtype option on import or set low_memory=False.\n",
      "  exec(code_obj, self.user_global_ns, self.user_ns)\n"
     ]
    }
   ],
   "source": [
    "inventory = pd.read_csv('inputs/InventoryList_2023-03-14.csv',header=0,dtype={'ProductCode': str,'Barcode':str})\n",
    "begin = pd.read_excel('inputs/SbPS June19 Sept19.xlsx',engine='openpyxl',header=0,skiprows=5,dtype={'ProductCode': str,'Barcode':str})\n",
    "end   = pd.read_excel('inputs/SbPS June22 Sept22.xlsx',engine='openpyxl',header=0,skiprows=5,dtype={'ProductCode': str,'Barcode':str})"
   ]
  },
  {
   "cell_type": "code",
   "execution_count": 70,
   "id": "b051c017",
   "metadata": {},
   "outputs": [
    {
     "data": {
      "text/html": [
       "<div>\n",
       "<style scoped>\n",
       "    .dataframe tbody tr th:only-of-type {\n",
       "        vertical-align: middle;\n",
       "    }\n",
       "\n",
       "    .dataframe tbody tr th {\n",
       "        vertical-align: top;\n",
       "    }\n",
       "\n",
       "    .dataframe thead th {\n",
       "        text-align: right;\n",
       "    }\n",
       "</style>\n",
       "<table border=\"1\" class=\"dataframe\">\n",
       "  <thead>\n",
       "    <tr style=\"text-align: right;\">\n",
       "      <th></th>\n",
       "      <th>ProductCode</th>\n",
       "      <th>Name</th>\n",
       "      <th>Category</th>\n",
       "      <th>Barcode</th>\n",
       "      <th>SupplierFixedPrice</th>\n",
       "      <th>PriceTier1</th>\n",
       "      <th>PriceTier2</th>\n",
       "      <th>AverageCost</th>\n",
       "      <th>Status</th>\n",
       "    </tr>\n",
       "  </thead>\n",
       "  <tbody>\n",
       "    <tr>\n",
       "      <th>0</th>\n",
       "      <td>NaN</td>\n",
       "      <td>NaN</td>\n",
       "      <td>Service</td>\n",
       "      <td>NaN</td>\n",
       "      <td>0.00</td>\n",
       "      <td>50.00</td>\n",
       "      <td>0.00</td>\n",
       "      <td>0.000</td>\n",
       "      <td>ACTIVE</td>\n",
       "    </tr>\n",
       "    <tr>\n",
       "      <th>1</th>\n",
       "      <td>777823111113</td>\n",
       "      <td>1 Water 355ml</td>\n",
       "      <td>Non Alcoholic Beverage</td>\n",
       "      <td>NaN</td>\n",
       "      <td>0.00</td>\n",
       "      <td>1.50</td>\n",
       "      <td>0.00</td>\n",
       "      <td>0.000</td>\n",
       "      <td>ACTIVE</td>\n",
       "    </tr>\n",
       "    <tr>\n",
       "      <th>2</th>\n",
       "      <td>'777823111113</td>\n",
       "      <td>1 Water 355ml</td>\n",
       "      <td>Non Alcoholic Beverage</td>\n",
       "      <td>777823111113</td>\n",
       "      <td>0.00</td>\n",
       "      <td>1.50</td>\n",
       "      <td>0.95</td>\n",
       "      <td>0.506</td>\n",
       "      <td>DEPRECATED</td>\n",
       "    </tr>\n",
       "    <tr>\n",
       "      <th>3</th>\n",
       "      <td>851233007157</td>\n",
       "      <td>11 Below Brewing Taco Tuesday Cans 6 Pack</td>\n",
       "      <td>Craft Beer</td>\n",
       "      <td>851233007157</td>\n",
       "      <td>7.01</td>\n",
       "      <td>12.99</td>\n",
       "      <td>10.80</td>\n",
       "      <td>8.250</td>\n",
       "      <td>ACTIVE</td>\n",
       "    </tr>\n",
       "    <tr>\n",
       "      <th>4</th>\n",
       "      <td>1234500000000</td>\n",
       "      <td>12/24 Mixing Tin Sets</td>\n",
       "      <td>Bar Tools</td>\n",
       "      <td>1234500000000</td>\n",
       "      <td>11.04</td>\n",
       "      <td>22.00</td>\n",
       "      <td>17.50</td>\n",
       "      <td>11.040</td>\n",
       "      <td>ACTIVE</td>\n",
       "    </tr>\n",
       "  </tbody>\n",
       "</table>\n",
       "</div>"
      ],
      "text/plain": [
       "     ProductCode                                       Name  \\\n",
       "0            NaN                                        NaN   \n",
       "1   777823111113                              1 Water 355ml   \n",
       "2  '777823111113                              1 Water 355ml   \n",
       "3   851233007157  11 Below Brewing Taco Tuesday Cans 6 Pack   \n",
       "4  1234500000000                      12/24 Mixing Tin Sets   \n",
       "\n",
       "                 Category        Barcode  SupplierFixedPrice  PriceTier1  \\\n",
       "0                 Service            NaN                0.00       50.00   \n",
       "1  Non Alcoholic Beverage            NaN                0.00        1.50   \n",
       "2  Non Alcoholic Beverage   777823111113                0.00        1.50   \n",
       "3              Craft Beer   851233007157                7.01       12.99   \n",
       "4               Bar Tools  1234500000000               11.04       22.00   \n",
       "\n",
       "   PriceTier2  AverageCost      Status  \n",
       "0        0.00        0.000      ACTIVE  \n",
       "1        0.00        0.000      ACTIVE  \n",
       "2        0.95        0.506  DEPRECATED  \n",
       "3       10.80        8.250      ACTIVE  \n",
       "4       17.50       11.040      ACTIVE  "
      ]
     },
     "execution_count": 70,
     "metadata": {},
     "output_type": "execute_result"
    }
   ],
   "source": [
    "#inventory.columns\n",
    "inventory = inventory.drop(columns=['Brand', 'Type', 'FixedAssetType','CostingMethod', 'Length', 'Width', 'Height', 'Weight', 'CartonLength',\n",
    "       'CartonWidth', 'CartonHeight', 'CartonInnerQuantity', 'CartonQuantity','CartonVolume', 'WeightUnits', 'DimensionUnits','MinimumBeforeReorder', 'ReorderQuantity', 'DefaultLocation',\n",
    "       'LastSuppliedBy', 'SupplierProductCode', 'SupplierProductName','PriceTier3','PriceTier4', 'PriceTier5', 'PriceTier6', 'PriceTier7', 'PriceTier8',\n",
    "       'PriceTier9', 'PriceTier10', 'AssemblyBOM', 'AutoAssemble','AutoDisassemble', 'DropShip', 'DropShipSupplier', 'DefaultUnitOfMeasure', 'InventoryAccount', 'RevenueAccount',\n",
    "       'ExpenseAccount', 'COGSAccount', 'ProductAttributeSet','AdditionalAttribute1', 'AdditionalAttribute2', 'AdditionalAttribute3',\n",
    "       'AdditionalAttribute4', 'AdditionalAttribute5', 'AdditionalAttribute6','AdditionalAttribute7', 'AdditionalAttribute8', 'AdditionalAttribute9',\n",
    "       'AdditionalAttribute10', 'DiscountName', 'ProductFamilySKU','ProductFamilyName', 'ProductFamilyOption1Name',\n",
    "       'ProductFamilyOption1Value', 'ProductFamilyOption2Name','ProductFamilyOption2Value', 'ProductFamilyOption3Name',\n",
    "       'ProductFamilyOption3Value', 'CommaDelimitedTags', 'StockLocator','PurchaseTaxRule', 'SaleTaxRule', 'Description',\n",
    "       'ShortDescription', 'Sellable', 'PickZones', 'AlwaysShowQuantity','WarrantySetupName', 'InternalNote', 'ProductionBOM', 'MakeToOrderBom',\n",
    "       'QuantityToProduce', 'IsAccountingDimensionEnabled','DimensionAttribute1', 'DimensionAttribute2', 'DimensionAttribute3',\n",
    "       'DimensionAttribute4', 'DimensionAttribute5', 'DimensionAttribute6','DimensionAttribute7', 'DimensionAttribute8', 'DimensionAttribute9',\n",
    "       'DimensionAttribute10', 'HSCode', 'CountryOfOrigin'])\n",
    "inventory.head()"
   ]
  },
  {
   "cell_type": "code",
   "execution_count": 71,
   "id": "b531c977",
   "metadata": {},
   "outputs": [
    {
     "data": {
      "text/html": [
       "<div>\n",
       "<style scoped>\n",
       "    .dataframe tbody tr th:only-of-type {\n",
       "        vertical-align: middle;\n",
       "    }\n",
       "\n",
       "    .dataframe tbody tr th {\n",
       "        vertical-align: top;\n",
       "    }\n",
       "\n",
       "    .dataframe thead th {\n",
       "        text-align: right;\n",
       "    }\n",
       "</style>\n",
       "<table border=\"1\" class=\"dataframe\">\n",
       "  <thead>\n",
       "    <tr style=\"text-align: right;\">\n",
       "      <th></th>\n",
       "      <th>Customer</th>\n",
       "      <th>SKU</th>\n",
       "      <th>Category</th>\n",
       "      <th>Product</th>\n",
       "      <th>Quantity</th>\n",
       "      <th>Sale</th>\n",
       "    </tr>\n",
       "  </thead>\n",
       "  <tbody>\n",
       "    <tr>\n",
       "      <th>0</th>\n",
       "      <td>Ah Sing Den</td>\n",
       "      <td>075496001602</td>\n",
       "      <td>Bitters</td>\n",
       "      <td>Angostura Bitters 16oz</td>\n",
       "      <td>1</td>\n",
       "      <td>16.9800</td>\n",
       "    </tr>\n",
       "    <tr>\n",
       "      <th>1</th>\n",
       "      <td>Ah Sing Den</td>\n",
       "      <td>088004143541</td>\n",
       "      <td>Liqueur</td>\n",
       "      <td>Pimms No 1 750ml</td>\n",
       "      <td>2</td>\n",
       "      <td>33.4800</td>\n",
       "    </tr>\n",
       "    <tr>\n",
       "      <th>2</th>\n",
       "      <td>Ah Sing Den</td>\n",
       "      <td>088004190163</td>\n",
       "      <td>Bitters</td>\n",
       "      <td>Regans Orange Bitters 5oz</td>\n",
       "      <td>2</td>\n",
       "      <td>9.9400</td>\n",
       "    </tr>\n",
       "    <tr>\n",
       "      <th>3</th>\n",
       "      <td>Ah Sing Den</td>\n",
       "      <td>088100915615</td>\n",
       "      <td>Vodka</td>\n",
       "      <td>Monopolowa Vodka 1L</td>\n",
       "      <td>5</td>\n",
       "      <td>63.7500</td>\n",
       "    </tr>\n",
       "    <tr>\n",
       "      <th>4</th>\n",
       "      <td>Ah Sing Den</td>\n",
       "      <td>123552</td>\n",
       "      <td>Bar Tools</td>\n",
       "      <td>Metal Straws</td>\n",
       "      <td>158</td>\n",
       "      <td>99.8268</td>\n",
       "    </tr>\n",
       "  </tbody>\n",
       "</table>\n",
       "</div>"
      ],
      "text/plain": [
       "      Customer           SKU   Category                    Product  Quantity  \\\n",
       "0  Ah Sing Den  075496001602    Bitters     Angostura Bitters 16oz         1   \n",
       "1  Ah Sing Den  088004143541    Liqueur           Pimms No 1 750ml         2   \n",
       "2  Ah Sing Den  088004190163    Bitters  Regans Orange Bitters 5oz         2   \n",
       "3  Ah Sing Den  088100915615      Vodka        Monopolowa Vodka 1L         5   \n",
       "4  Ah Sing Den        123552  Bar Tools               Metal Straws       158   \n",
       "\n",
       "      Sale  \n",
       "0  16.9800  \n",
       "1  33.4800  \n",
       "2   9.9400  \n",
       "3  63.7500  \n",
       "4  99.8268  "
      ]
     },
     "execution_count": 71,
     "metadata": {},
     "output_type": "execute_result"
    }
   ],
   "source": [
    "begin.head()"
   ]
  },
  {
   "cell_type": "code",
   "execution_count": 72,
   "id": "beb1ef90",
   "metadata": {
    "scrolled": true
   },
   "outputs": [
    {
     "data": {
      "text/html": [
       "<div>\n",
       "<style scoped>\n",
       "    .dataframe tbody tr th:only-of-type {\n",
       "        vertical-align: middle;\n",
       "    }\n",
       "\n",
       "    .dataframe tbody tr th {\n",
       "        vertical-align: top;\n",
       "    }\n",
       "\n",
       "    .dataframe thead th {\n",
       "        text-align: right;\n",
       "    }\n",
       "</style>\n",
       "<table border=\"1\" class=\"dataframe\">\n",
       "  <thead>\n",
       "    <tr style=\"text-align: right;\">\n",
       "      <th></th>\n",
       "      <th>Customer</th>\n",
       "      <th>SKU</th>\n",
       "      <th>Category</th>\n",
       "      <th>Product</th>\n",
       "      <th>Quantity</th>\n",
       "      <th>Sale</th>\n",
       "    </tr>\n",
       "  </thead>\n",
       "  <tbody>\n",
       "    <tr>\n",
       "      <th>0</th>\n",
       "      <td>1417 French Bistro</td>\n",
       "      <td>080480004699</td>\n",
       "      <td>Liqueur</td>\n",
       "      <td>St Germain 750ml</td>\n",
       "      <td>9</td>\n",
       "      <td>266.40</td>\n",
       "    </tr>\n",
       "    <tr>\n",
       "      <th>1</th>\n",
       "      <td>1417 French Bistro</td>\n",
       "      <td>087236565008</td>\n",
       "      <td>Liqueur</td>\n",
       "      <td>Cointreau 1L</td>\n",
       "      <td>2</td>\n",
       "      <td>64.16</td>\n",
       "    </tr>\n",
       "    <tr>\n",
       "      <th>2</th>\n",
       "      <td>1417 French Bistro</td>\n",
       "      <td>182972001213</td>\n",
       "      <td>Rum</td>\n",
       "      <td>Clement Rhum Blanc Agricole 1L</td>\n",
       "      <td>2</td>\n",
       "      <td>41.66</td>\n",
       "    </tr>\n",
       "    <tr>\n",
       "      <th>3</th>\n",
       "      <td>1417 French Bistro</td>\n",
       "      <td>628451773108</td>\n",
       "      <td>Gin</td>\n",
       "      <td>Empress 1908 Gin 750ml</td>\n",
       "      <td>4</td>\n",
       "      <td>143.28</td>\n",
       "    </tr>\n",
       "    <tr>\n",
       "      <th>4</th>\n",
       "      <td>1417 French Bistro</td>\n",
       "      <td>674545000322</td>\n",
       "      <td>Tequila</td>\n",
       "      <td>Don Julio 1942 750ml</td>\n",
       "      <td>2</td>\n",
       "      <td>328.96</td>\n",
       "    </tr>\n",
       "  </tbody>\n",
       "</table>\n",
       "</div>"
      ],
      "text/plain": [
       "             Customer           SKU Category                         Product  \\\n",
       "0  1417 French Bistro  080480004699  Liqueur                St Germain 750ml   \n",
       "1  1417 French Bistro  087236565008  Liqueur                    Cointreau 1L   \n",
       "2  1417 French Bistro  182972001213      Rum  Clement Rhum Blanc Agricole 1L   \n",
       "3  1417 French Bistro  628451773108      Gin          Empress 1908 Gin 750ml   \n",
       "4  1417 French Bistro  674545000322  Tequila            Don Julio 1942 750ml   \n",
       "\n",
       "   Quantity    Sale  \n",
       "0         9  266.40  \n",
       "1         2   64.16  \n",
       "2         2   41.66  \n",
       "3         4  143.28  \n",
       "4         2  328.96  "
      ]
     },
     "execution_count": 72,
     "metadata": {},
     "output_type": "execute_result"
    }
   ],
   "source": [
    "end.head()"
   ]
  },
  {
   "cell_type": "code",
   "execution_count": 73,
   "id": "56a15e5f",
   "metadata": {},
   "outputs": [],
   "source": [
    "list_of_retail_stores = ['Customer Square ' + str(x) for x in range(1,4)] #we have 3 stores active, we won't count the Warehouse\n",
    "retail_names = ['Airport','Pleasant Valley','Oak Hill'] # make sure this matches the above list length - no known automation possible\n",
    "store_map = dict(zip(list_of_retail_stores,retail_names))"
   ]
  },
  {
   "cell_type": "code",
   "execution_count": 74,
   "id": "cfac080e",
   "metadata": {},
   "outputs": [],
   "source": [
    "old_categories = begin.Category.unique()\n",
    "new_categories = end.Category.unique()\n",
    "\n",
    "cats = np.append(old_categories,new_categories)\n",
    "cats = list(set(cats))\n",
    "cats.sort()\n",
    "#cats"
   ]
  },
  {
   "cell_type": "code",
   "execution_count": 75,
   "id": "851ecc66",
   "metadata": {},
   "outputs": [],
   "source": [
    "inv_categories = inventory.Category.unique()\n",
    "#inv_categories"
   ]
  },
  {
   "cell_type": "code",
   "execution_count": 76,
   "id": "cb53bbe8",
   "metadata": {},
   "outputs": [],
   "source": [
    "#for cat in inv_categories:\n",
    "#    if cat not in cats:\n",
    "#        print(cat)"
   ]
  },
  {
   "cell_type": "code",
   "execution_count": 77,
   "id": "ec316810",
   "metadata": {},
   "outputs": [],
   "source": [
    "cats = list(set(cats + list(inv_categories)))\n",
    "cats.sort()\n",
    "#cats"
   ]
  },
  {
   "cell_type": "code",
   "execution_count": 78,
   "id": "53265e5a",
   "metadata": {},
   "outputs": [
    {
     "data": {
      "text/plain": [
       "31"
      ]
     },
     "execution_count": 78,
     "metadata": {},
     "output_type": "execute_result"
    }
   ],
   "source": [
    "wine_categories = ['Bubbles','Orange Wine','Port','Red', 'Red Beaujolais', 'Red Blend', 'Red Bordeaux', 'Red Cabernet Sauvignon', 'Red Chianti', 'Red Malbec', 'Red Merlot','Red Montepulciano', 'Red Mourvedre', 'Red New World', 'Red Old World', 'Red Pinot Noir', 'Red Primitivo', 'Red Tempranillo', 'Red Zinfandel','Rose','Sparkling rose','White','White Chardonnay','White Chenin','White Gewurztraminer','White Muscadet','White Picpoul','White Pinot Grigio','White Reisling','White Sauvignon Blanc','White wine']\n",
    "#fucking hell, Seth\n",
    "#len(wine_categories)"
   ]
  },
  {
   "cell_type": "code",
   "execution_count": 79,
   "id": "13db0561",
   "metadata": {},
   "outputs": [],
   "source": [
    "begin_wine = begin[begin.Category.isin(wine_categories) & (begin.Customer.isin(list_of_retail_stores))]"
   ]
  },
  {
   "cell_type": "code",
   "execution_count": 80,
   "id": "7e652d3b",
   "metadata": {},
   "outputs": [],
   "source": [
    "#end_wine = end[end.Category.isin(wine_categories) & (end.Customer.isin(list_of_retail_stores))]\n",
    "end_wine = end[end.Category.isin(wine_categories) & (end.Customer.isin(['Customer Square 1','Customer Square 2']))]"
   ]
  },
  {
   "cell_type": "code",
   "execution_count": 81,
   "id": "a9ddf444",
   "metadata": {},
   "outputs": [
    {
     "data": {
      "text/plain": [
       "1.8382747387953506"
      ]
     },
     "execution_count": 81,
     "metadata": {},
     "output_type": "execute_result"
    }
   ],
   "source": [
    "begin_wine_profit = begin_wine.Sale.sum()\n",
    "end_wine_profit = end_wine.Sale.sum()\n",
    "\n",
    "ratio = end_wine_profit / begin_wine_profit\n",
    "ratio"
   ]
  },
  {
   "cell_type": "code",
   "execution_count": null,
   "id": "62352434",
   "metadata": {},
   "outputs": [],
   "source": []
  }
 ],
 "metadata": {
  "kernelspec": {
   "display_name": "Python 3 (ipykernel)",
   "language": "python",
   "name": "python3"
  },
  "language_info": {
   "codemirror_mode": {
    "name": "ipython",
    "version": 3
   },
   "file_extension": ".py",
   "mimetype": "text/x-python",
   "name": "python",
   "nbconvert_exporter": "python",
   "pygments_lexer": "ipython3",
   "version": "3.9.7"
  }
 },
 "nbformat": 4,
 "nbformat_minor": 5
}
