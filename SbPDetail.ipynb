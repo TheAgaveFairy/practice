{
 "cells": [
  {
   "cell_type": "code",
   "execution_count": 1,
   "id": "2960c352",
   "metadata": {},
   "outputs": [],
   "source": [
    "import pandas as pd\n",
    "import matplotlib.pyplot as plt\n",
    "import matplotlib.dates as mdates\n",
    "import numpy as np\n",
    "from datetime import datetime"
   ]
  },
  {
   "cell_type": "code",
   "execution_count": null,
   "id": "3fa13f1c",
   "metadata": {},
   "outputs": [],
   "source": [
    "#DEAR -> REPORTS -> SALES BY PRODUCT DETAILS -> [select time frame] -> EXPORT -> EXCEL WITHOUT TOTALS\n",
    "\n",
    "df = pd.read_excel('2021details.xlsx',engine='openpyxl',header=0,skiprows=5, parse_dates=False)#parse_dates didn't work, see below\n",
    "print(df.iloc[30:40])#head is full of junk right now lol\n",
    "#print(df.head())"
   ]
  },
  {
   "cell_type": "code",
   "execution_count": null,
   "id": "4ca748ef",
   "metadata": {},
   "outputs": [],
   "source": [
    "#start cleaning some of the unused or needed columns / rows, converting \"Invoice Date\" to datetime objects\n",
    "df = df.drop(['SKU', 'COGS','Profit'], axis=1, inplace=False)#not trusted data columns or useful, we'll ignore them for now\n",
    "list_of_retail_stores = ['Customer Square ' + str(x) for x in range(1,4)] #we have 3 stores active, we won't count the Warehouse (CS4?)\n",
    "df = df[df.Customer.isin(list_of_retail_stores) & df.Product.notnull()] #remove wholesale and weird null anomoly entries\n",
    "df = df.rename(columns={'Sale':'Price','Invoice Date':'Date'})#renaming for legibility \n",
    "df['Date'] = pd.to_datetime(df['Date'], format='%d-%b-%Y')#get these dates converted from string to something more powerful\n",
    "\n",
    "print(df.head(8))"
   ]
  },
  {
   "cell_type": "code",
   "execution_count": null,
   "id": "ddee492d",
   "metadata": {},
   "outputs": [],
   "source": [
    "#quick wine filter setup and check to make sure there's no items with bad categories that need fixing\n",
    "\n",
    "active_categories = df.Category.unique().tolist()\n",
    "active_categories.sort()\n",
    "print(active_categories)\n",
    "wine_list = ['White','Orange Wine','Bubbles','Red New World','Red Old World','Rose']#active categories just for vino\n",
    "whiskey_list = ['Whiskey American Single Malt', 'Whiskey Bourbon/American', 'Whiskey Canadian', 'Whiskey French', 'Whiskey Indian', 'Whiskey Irish', 'Whiskey Japanese', 'Whiskey Mexican', 'Whiskey Rye', 'Whiskey Scotch', 'Whiskey Taiwaneese', 'Whisky German']\n",
    "#if there's bad categories (at item creation in DEAR) fix in DEAR and re-run report - easiest for now or manually edit here\n",
    "print(df.groupby(['Product','Customer',(pd.Grouper(key='Date', freq='1M'))]).Quantity.sum().head()) #example"
   ]
  },
  {
   "cell_type": "code",
   "execution_count": null,
   "id": "721c5ada",
   "metadata": {},
   "outputs": [],
   "source": [
    "#lets make a plot showing the change in category sales over the year\n",
    "linegraph = df.groupby(['Category',(pd.Grouper(key='Date', freq='1M'))]).Quantity.sum().reset_index()#example\n",
    "print(linegraph)\n",
    "\n",
    "fig, ax = plt.subplots()\n",
    "for cat in wine_list:\n",
    "    ax.plot(linegraph[linegraph.Category == cat].Date,linegraph[linegraph.Category == cat].Quantity,label = cat)\n",
    "\n",
    "ax.xaxis.set_major_formatter(mdates.ConciseDateFormatter(ax.xaxis.get_major_locator()))\n",
    "ax.xaxis.set_minor_locator(mdates.MonthLocator())\n",
    "\n",
    "plt.xlabel('Date')\n",
    "plt.ylabel('Number Sold')\n",
    "plt.title('Category Sales Over Time')\n",
    "plt.legend()#show it!\n",
    "plt.show()\n"
   ]
  },
  {
   "cell_type": "code",
   "execution_count": null,
   "id": "248a6aaa",
   "metadata": {},
   "outputs": [],
   "source": []
  }
 ],
 "metadata": {
  "kernelspec": {
   "display_name": "Python 3",
   "language": "python",
   "name": "python3"
  },
  "language_info": {
   "codemirror_mode": {
    "name": "ipython",
    "version": 3
   },
   "file_extension": ".py",
   "mimetype": "text/x-python",
   "name": "python",
   "nbconvert_exporter": "python",
   "pygments_lexer": "ipython3",
   "version": "3.9.5"
  }
 },
 "nbformat": 4,
 "nbformat_minor": 5
}
