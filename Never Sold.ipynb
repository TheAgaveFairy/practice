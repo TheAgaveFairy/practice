{
 "cells": [
  {
   "cell_type": "code",
   "execution_count": 1,
   "id": "ee0f1dc6",
   "metadata": {},
   "outputs": [],
   "source": [
    "import pandas as pd\n",
    "import numpy as np"
   ]
  },
  {
   "cell_type": "markdown",
   "id": "8adc5d54",
   "metadata": {},
   "source": [
    "# See what products didn't sell in 2021"
   ]
  },
  {
   "cell_type": "markdown",
   "id": "0e958298",
   "metadata": {},
   "source": [
    "inv = pd.read_csv('InventoryList_2022-02-04.csv',header=0,dtype=str)\n",
    "\n",
    "inv = inv[['ProductCode','Name','Category','Barcode','PriceTier1','Status']].copy()\n",
    "inv = inv[inv.Status == 'ACTIVE']\n",
    "inv.head()"
   ]
  },
  {
   "cell_type": "markdown",
   "id": "ab733d30",
   "metadata": {},
   "source": [
    "sold = pd.read_excel('2021details.xlsx',engine='openpyxl',header=0,skiprows=5, parse_dates=False)\n",
    "custs = ['Customer Square ' + str(x) for x in range(1,4)] #we have 3 stores active, we won't count the Warehouse\n",
    "retail_names = ['Airport','Pleasant Valley','Oak Hill'] # make sure this matches the above list length - no known automation possible\n",
    "\n",
    "sold = sold[sold.Customer.isin(custs) & sold.Product.notnull()].reset_index(drop=True) #remove wholesale and weird null anomoly entries\n",
    "sold = sold.drop(['COGS','Profit'], axis=1, inplace=False)#not trusted data columns or useful, we'll ignore them for now"
   ]
  },
  {
   "cell_type": "markdown",
   "id": "62d14f15",
   "metadata": {},
   "source": [
    "quick = sold.groupby(['Product','SKU','Customer']).Quantity.sum().reset_index()\n",
    "#quick.info()"
   ]
  },
  {
   "cell_type": "markdown",
   "id": "ff3163bb",
   "metadata": {},
   "source": [
    "dead_map = []\n",
    "\n",
    "for i, row in inv[inv.Status == 'ACTIVE'].iterrows():\n",
    "    prod = row.Name\n",
    "    for cust in custs:\n",
    "        if(quick[(quick.Product == prod) & (quick.Customer == cust)].empty):\n",
    "            dead_map.append([prod,cust,row.Category,row.PriceTier1])\n",
    "            \n",
    "#print(dead_map)"
   ]
  },
  {
   "cell_type": "markdown",
   "id": "1f2957ec",
   "metadata": {},
   "source": [
    "output = pd.DataFrame(dead_map,columns=['Product','Customer','Category','Retail'])\n",
    "output"
   ]
  },
  {
   "cell_type": "markdown",
   "id": "41ba7b21",
   "metadata": {},
   "source": [
    "output.to_csv('NeverSoldFULL.csv',index=False)"
   ]
  },
  {
   "cell_type": "markdown",
   "id": "76e9bbdb",
   "metadata": {},
   "source": [
    "# Do it again but more smarter, eventually run a longer report"
   ]
  },
  {
   "cell_type": "code",
   "execution_count": 13,
   "id": "eff8bb19",
   "metadata": {},
   "outputs": [
    {
     "data": {
      "text/html": [
       "<div>\n",
       "<style scoped>\n",
       "    .dataframe tbody tr th:only-of-type {\n",
       "        vertical-align: middle;\n",
       "    }\n",
       "\n",
       "    .dataframe tbody tr th {\n",
       "        vertical-align: top;\n",
       "    }\n",
       "\n",
       "    .dataframe thead th {\n",
       "        text-align: right;\n",
       "    }\n",
       "</style>\n",
       "<table border=\"1\" class=\"dataframe\">\n",
       "  <thead>\n",
       "    <tr style=\"text-align: right;\">\n",
       "      <th></th>\n",
       "      <th>Category</th>\n",
       "      <th>SKU</th>\n",
       "      <th>Product</th>\n",
       "      <th>Location</th>\n",
       "      <th>Status</th>\n",
       "      <th>OnHand</th>\n",
       "      <th>Customer</th>\n",
       "    </tr>\n",
       "  </thead>\n",
       "  <tbody>\n",
       "    <tr>\n",
       "      <th>0</th>\n",
       "      <td>Non Alcoholic Beverage</td>\n",
       "      <td>777823111113</td>\n",
       "      <td>1 Water 355ml</td>\n",
       "      <td>Airport</td>\n",
       "      <td>ACTIVE</td>\n",
       "      <td>123</td>\n",
       "      <td>Customer Square 1</td>\n",
       "    </tr>\n",
       "    <tr>\n",
       "      <th>1</th>\n",
       "      <td>Non Alcoholic Beverage</td>\n",
       "      <td>777823111113</td>\n",
       "      <td>1 Water 355ml</td>\n",
       "      <td>Oak Hill</td>\n",
       "      <td>ACTIVE</td>\n",
       "      <td>1</td>\n",
       "      <td>Customer Square 3</td>\n",
       "    </tr>\n",
       "    <tr>\n",
       "      <th>2</th>\n",
       "      <td>Non Alcoholic Beverage</td>\n",
       "      <td>777823111113</td>\n",
       "      <td>1 Water 355ml</td>\n",
       "      <td>Pleasant Valley</td>\n",
       "      <td>ACTIVE</td>\n",
       "      <td>5</td>\n",
       "      <td>Customer Square 2</td>\n",
       "    </tr>\n",
       "    <tr>\n",
       "      <th>3</th>\n",
       "      <td>Bar Tools</td>\n",
       "      <td>1234500000000</td>\n",
       "      <td>12/24 Mixing Tin Sets</td>\n",
       "      <td>Airport</td>\n",
       "      <td>ACTIVE</td>\n",
       "      <td>0</td>\n",
       "      <td>Customer Square 1</td>\n",
       "    </tr>\n",
       "    <tr>\n",
       "      <th>4</th>\n",
       "      <td>Bar Tools</td>\n",
       "      <td>1234500000000</td>\n",
       "      <td>12/24 Mixing Tin Sets</td>\n",
       "      <td>Pleasant Valley</td>\n",
       "      <td>ACTIVE</td>\n",
       "      <td>0</td>\n",
       "      <td>Customer Square 2</td>\n",
       "    </tr>\n",
       "  </tbody>\n",
       "</table>\n",
       "</div>"
      ],
      "text/plain": [
       "                 Category            SKU                Product  \\\n",
       "0  Non Alcoholic Beverage   777823111113          1 Water 355ml   \n",
       "1  Non Alcoholic Beverage   777823111113          1 Water 355ml   \n",
       "2  Non Alcoholic Beverage   777823111113          1 Water 355ml   \n",
       "3               Bar Tools  1234500000000  12/24 Mixing Tin Sets   \n",
       "4               Bar Tools  1234500000000  12/24 Mixing Tin Sets   \n",
       "\n",
       "          Location  Status  OnHand           Customer  \n",
       "0          Airport  ACTIVE     123  Customer Square 1  \n",
       "1         Oak Hill  ACTIVE       1  Customer Square 3  \n",
       "2  Pleasant Valley  ACTIVE       5  Customer Square 2  \n",
       "3          Airport  ACTIVE       0  Customer Square 1  \n",
       "4  Pleasant Valley  ACTIVE       0  Customer Square 2  "
      ]
     },
     "execution_count": 13,
     "metadata": {},
     "output_type": "execute_result"
    }
   ],
   "source": [
    "df = pd.read_csv('AvailabilityReport_2022-03-24.csv',header=0,dtype=str)\n",
    "\n",
    "df = df[['Category','SKU','ProductName','Location','Status','OnHand']].copy()\n",
    "df.OnHand = df.OnHand.astype(float)\n",
    "df.OnHand = df.OnHand.astype(int)\n",
    "df.rename(columns={'ProductName':'Product'},inplace=True)\n",
    "df = df[df.Location != 'Warehouse']\n",
    "\n",
    "retail_names = ['Airport','Pleasant Valley','Oak Hill'] # no way known to build map otherwise\n",
    "custs = ['Customer Square ' + str(x) for x in range(1,len(retail_names)+1)] #we have 3 stores active, we won't count the Warehouse\n",
    "store_map = dict(zip(retail_names,custs))\n",
    "df['Customer'] = df.apply(lambda row: store_map[row.Location],axis=1)\n",
    "\n",
    "#df[(df.Status == 'DEPRECATED') & (df.Location == 'Customer Square 3')].head()#good, its empty\n",
    "df.head()"
   ]
  },
  {
   "cell_type": "code",
   "execution_count": 14,
   "id": "9ce80cc0",
   "metadata": {},
   "outputs": [],
   "source": [
    "#df[(df.Product.str.contains('Del Maguey')) & (df.Location == 'Oak Hill')]"
   ]
  },
  {
   "cell_type": "code",
   "execution_count": 16,
   "id": "221bb2dd",
   "metadata": {},
   "outputs": [
    {
     "ename": "KeyError",
     "evalue": "\"['Unit' 'Invoice'] not found in axis\"",
     "output_type": "error",
     "traceback": [
      "\u001b[1;31m---------------------------------------------------------------------------\u001b[0m",
      "\u001b[1;31mKeyError\u001b[0m                                  Traceback (most recent call last)",
      "\u001b[1;32m<ipython-input-16-ee357e249ef6>\u001b[0m in \u001b[0;36m<module>\u001b[1;34m\u001b[0m\n\u001b[0;32m      1\u001b[0m \u001b[0msale\u001b[0m \u001b[1;33m=\u001b[0m \u001b[0mpd\u001b[0m\u001b[1;33m.\u001b[0m\u001b[0mread_excel\u001b[0m\u001b[1;33m(\u001b[0m\u001b[1;34m'last365posthospital.xlsx'\u001b[0m\u001b[1;33m,\u001b[0m\u001b[0mengine\u001b[0m\u001b[1;33m=\u001b[0m\u001b[1;34m'openpyxl'\u001b[0m\u001b[1;33m,\u001b[0m\u001b[0mheader\u001b[0m\u001b[1;33m=\u001b[0m\u001b[1;36m0\u001b[0m\u001b[1;33m,\u001b[0m\u001b[0mskiprows\u001b[0m\u001b[1;33m=\u001b[0m\u001b[1;36m5\u001b[0m\u001b[1;33m,\u001b[0m \u001b[0mparse_dates\u001b[0m\u001b[1;33m=\u001b[0m\u001b[1;32mFalse\u001b[0m\u001b[1;33m)\u001b[0m\u001b[1;31m#sales by product summary last 365 no totals export\u001b[0m\u001b[1;33m\u001b[0m\u001b[1;33m\u001b[0m\u001b[0m\n\u001b[1;32m----> 2\u001b[1;33m \u001b[0msale\u001b[0m \u001b[1;33m=\u001b[0m \u001b[0msale\u001b[0m\u001b[1;33m.\u001b[0m\u001b[0mdrop\u001b[0m\u001b[1;33m(\u001b[0m\u001b[1;33m[\u001b[0m\u001b[1;34m'Unit'\u001b[0m\u001b[1;33m,\u001b[0m\u001b[1;34m'Invoice'\u001b[0m\u001b[1;33m,\u001b[0m\u001b[1;34m'Profit'\u001b[0m\u001b[1;33m]\u001b[0m\u001b[1;33m,\u001b[0m\u001b[0maxis\u001b[0m\u001b[1;33m=\u001b[0m\u001b[1;36m1\u001b[0m\u001b[1;33m)\u001b[0m\u001b[1;33m.\u001b[0m\u001b[0mreset_index\u001b[0m\u001b[1;33m(\u001b[0m\u001b[1;33m)\u001b[0m\u001b[1;31m#COGS too\u001b[0m\u001b[1;33m\u001b[0m\u001b[1;33m\u001b[0m\u001b[0m\n\u001b[0m\u001b[0;32m      3\u001b[0m \u001b[0msale\u001b[0m \u001b[1;33m=\u001b[0m \u001b[0msale\u001b[0m\u001b[1;33m[\u001b[0m\u001b[1;33m(\u001b[0m\u001b[0msale\u001b[0m\u001b[1;33m.\u001b[0m\u001b[0mCustomer\u001b[0m\u001b[1;33m.\u001b[0m\u001b[0misin\u001b[0m\u001b[1;33m(\u001b[0m\u001b[0mcusts\u001b[0m\u001b[1;33m)\u001b[0m\u001b[1;33m)\u001b[0m \u001b[1;33m&\u001b[0m \u001b[1;33m(\u001b[0m\u001b[0msale\u001b[0m\u001b[1;33m.\u001b[0m\u001b[0mProduct\u001b[0m\u001b[1;33m.\u001b[0m\u001b[0mnotnull\u001b[0m\u001b[1;33m(\u001b[0m\u001b[1;33m)\u001b[0m\u001b[1;33m)\u001b[0m\u001b[1;33m]\u001b[0m\u001b[1;33m\u001b[0m\u001b[1;33m\u001b[0m\u001b[0m\n\u001b[0;32m      4\u001b[0m \u001b[0msale\u001b[0m\u001b[1;33m[\u001b[0m\u001b[1;34m'Unit'\u001b[0m\u001b[1;33m]\u001b[0m \u001b[1;33m=\u001b[0m \u001b[0msale\u001b[0m\u001b[1;33m.\u001b[0m\u001b[0mSale\u001b[0m \u001b[1;33m/\u001b[0m \u001b[0msale\u001b[0m\u001b[1;33m.\u001b[0m\u001b[0mQuantity\u001b[0m\u001b[1;33m\u001b[0m\u001b[1;33m\u001b[0m\u001b[0m\n\u001b[0;32m      5\u001b[0m \u001b[0msale\u001b[0m\u001b[1;33m.\u001b[0m\u001b[0mhead\u001b[0m\u001b[1;33m(\u001b[0m\u001b[1;33m)\u001b[0m\u001b[1;33m\u001b[0m\u001b[1;33m\u001b[0m\u001b[0m\n",
      "\u001b[1;32m~\\miniconda3\\lib\\site-packages\\pandas\\util\\_decorators.py\u001b[0m in \u001b[0;36mwrapper\u001b[1;34m(*args, **kwargs)\u001b[0m\n\u001b[0;32m    309\u001b[0m                     \u001b[0mstacklevel\u001b[0m\u001b[1;33m=\u001b[0m\u001b[0mstacklevel\u001b[0m\u001b[1;33m,\u001b[0m\u001b[1;33m\u001b[0m\u001b[1;33m\u001b[0m\u001b[0m\n\u001b[0;32m    310\u001b[0m                 )\n\u001b[1;32m--> 311\u001b[1;33m             \u001b[1;32mreturn\u001b[0m \u001b[0mfunc\u001b[0m\u001b[1;33m(\u001b[0m\u001b[1;33m*\u001b[0m\u001b[0margs\u001b[0m\u001b[1;33m,\u001b[0m \u001b[1;33m**\u001b[0m\u001b[0mkwargs\u001b[0m\u001b[1;33m)\u001b[0m\u001b[1;33m\u001b[0m\u001b[1;33m\u001b[0m\u001b[0m\n\u001b[0m\u001b[0;32m    312\u001b[0m \u001b[1;33m\u001b[0m\u001b[0m\n\u001b[0;32m    313\u001b[0m         \u001b[1;32mreturn\u001b[0m \u001b[0mwrapper\u001b[0m\u001b[1;33m\u001b[0m\u001b[1;33m\u001b[0m\u001b[0m\n",
      "\u001b[1;32m~\\miniconda3\\lib\\site-packages\\pandas\\core\\frame.py\u001b[0m in \u001b[0;36mdrop\u001b[1;34m(self, labels, axis, index, columns, level, inplace, errors)\u001b[0m\n\u001b[0;32m   4904\u001b[0m                 \u001b[0mweight\u001b[0m  \u001b[1;36m1.0\u001b[0m     \u001b[1;36m0.8\u001b[0m\u001b[1;33m\u001b[0m\u001b[1;33m\u001b[0m\u001b[0m\n\u001b[0;32m   4905\u001b[0m         \"\"\"\n\u001b[1;32m-> 4906\u001b[1;33m         return super().drop(\n\u001b[0m\u001b[0;32m   4907\u001b[0m             \u001b[0mlabels\u001b[0m\u001b[1;33m=\u001b[0m\u001b[0mlabels\u001b[0m\u001b[1;33m,\u001b[0m\u001b[1;33m\u001b[0m\u001b[1;33m\u001b[0m\u001b[0m\n\u001b[0;32m   4908\u001b[0m             \u001b[0maxis\u001b[0m\u001b[1;33m=\u001b[0m\u001b[0maxis\u001b[0m\u001b[1;33m,\u001b[0m\u001b[1;33m\u001b[0m\u001b[1;33m\u001b[0m\u001b[0m\n",
      "\u001b[1;32m~\\miniconda3\\lib\\site-packages\\pandas\\core\\generic.py\u001b[0m in \u001b[0;36mdrop\u001b[1;34m(self, labels, axis, index, columns, level, inplace, errors)\u001b[0m\n\u001b[0;32m   4148\u001b[0m         \u001b[1;32mfor\u001b[0m \u001b[0maxis\u001b[0m\u001b[1;33m,\u001b[0m \u001b[0mlabels\u001b[0m \u001b[1;32min\u001b[0m \u001b[0maxes\u001b[0m\u001b[1;33m.\u001b[0m\u001b[0mitems\u001b[0m\u001b[1;33m(\u001b[0m\u001b[1;33m)\u001b[0m\u001b[1;33m:\u001b[0m\u001b[1;33m\u001b[0m\u001b[1;33m\u001b[0m\u001b[0m\n\u001b[0;32m   4149\u001b[0m             \u001b[1;32mif\u001b[0m \u001b[0mlabels\u001b[0m \u001b[1;32mis\u001b[0m \u001b[1;32mnot\u001b[0m \u001b[1;32mNone\u001b[0m\u001b[1;33m:\u001b[0m\u001b[1;33m\u001b[0m\u001b[1;33m\u001b[0m\u001b[0m\n\u001b[1;32m-> 4150\u001b[1;33m                 \u001b[0mobj\u001b[0m \u001b[1;33m=\u001b[0m \u001b[0mobj\u001b[0m\u001b[1;33m.\u001b[0m\u001b[0m_drop_axis\u001b[0m\u001b[1;33m(\u001b[0m\u001b[0mlabels\u001b[0m\u001b[1;33m,\u001b[0m \u001b[0maxis\u001b[0m\u001b[1;33m,\u001b[0m \u001b[0mlevel\u001b[0m\u001b[1;33m=\u001b[0m\u001b[0mlevel\u001b[0m\u001b[1;33m,\u001b[0m \u001b[0merrors\u001b[0m\u001b[1;33m=\u001b[0m\u001b[0merrors\u001b[0m\u001b[1;33m)\u001b[0m\u001b[1;33m\u001b[0m\u001b[1;33m\u001b[0m\u001b[0m\n\u001b[0m\u001b[0;32m   4151\u001b[0m \u001b[1;33m\u001b[0m\u001b[0m\n\u001b[0;32m   4152\u001b[0m         \u001b[1;32mif\u001b[0m \u001b[0minplace\u001b[0m\u001b[1;33m:\u001b[0m\u001b[1;33m\u001b[0m\u001b[1;33m\u001b[0m\u001b[0m\n",
      "\u001b[1;32m~\\miniconda3\\lib\\site-packages\\pandas\\core\\generic.py\u001b[0m in \u001b[0;36m_drop_axis\u001b[1;34m(self, labels, axis, level, errors)\u001b[0m\n\u001b[0;32m   4183\u001b[0m                 \u001b[0mnew_axis\u001b[0m \u001b[1;33m=\u001b[0m \u001b[0maxis\u001b[0m\u001b[1;33m.\u001b[0m\u001b[0mdrop\u001b[0m\u001b[1;33m(\u001b[0m\u001b[0mlabels\u001b[0m\u001b[1;33m,\u001b[0m \u001b[0mlevel\u001b[0m\u001b[1;33m=\u001b[0m\u001b[0mlevel\u001b[0m\u001b[1;33m,\u001b[0m \u001b[0merrors\u001b[0m\u001b[1;33m=\u001b[0m\u001b[0merrors\u001b[0m\u001b[1;33m)\u001b[0m\u001b[1;33m\u001b[0m\u001b[1;33m\u001b[0m\u001b[0m\n\u001b[0;32m   4184\u001b[0m             \u001b[1;32melse\u001b[0m\u001b[1;33m:\u001b[0m\u001b[1;33m\u001b[0m\u001b[1;33m\u001b[0m\u001b[0m\n\u001b[1;32m-> 4185\u001b[1;33m                 \u001b[0mnew_axis\u001b[0m \u001b[1;33m=\u001b[0m \u001b[0maxis\u001b[0m\u001b[1;33m.\u001b[0m\u001b[0mdrop\u001b[0m\u001b[1;33m(\u001b[0m\u001b[0mlabels\u001b[0m\u001b[1;33m,\u001b[0m \u001b[0merrors\u001b[0m\u001b[1;33m=\u001b[0m\u001b[0merrors\u001b[0m\u001b[1;33m)\u001b[0m\u001b[1;33m\u001b[0m\u001b[1;33m\u001b[0m\u001b[0m\n\u001b[0m\u001b[0;32m   4186\u001b[0m             \u001b[0mresult\u001b[0m \u001b[1;33m=\u001b[0m \u001b[0mself\u001b[0m\u001b[1;33m.\u001b[0m\u001b[0mreindex\u001b[0m\u001b[1;33m(\u001b[0m\u001b[1;33m**\u001b[0m\u001b[1;33m{\u001b[0m\u001b[0maxis_name\u001b[0m\u001b[1;33m:\u001b[0m \u001b[0mnew_axis\u001b[0m\u001b[1;33m}\u001b[0m\u001b[1;33m)\u001b[0m\u001b[1;33m\u001b[0m\u001b[1;33m\u001b[0m\u001b[0m\n\u001b[0;32m   4187\u001b[0m \u001b[1;33m\u001b[0m\u001b[0m\n",
      "\u001b[1;32m~\\miniconda3\\lib\\site-packages\\pandas\\core\\indexes\\base.py\u001b[0m in \u001b[0;36mdrop\u001b[1;34m(self, labels, errors)\u001b[0m\n\u001b[0;32m   6015\u001b[0m         \u001b[1;32mif\u001b[0m \u001b[0mmask\u001b[0m\u001b[1;33m.\u001b[0m\u001b[0many\u001b[0m\u001b[1;33m(\u001b[0m\u001b[1;33m)\u001b[0m\u001b[1;33m:\u001b[0m\u001b[1;33m\u001b[0m\u001b[1;33m\u001b[0m\u001b[0m\n\u001b[0;32m   6016\u001b[0m             \u001b[1;32mif\u001b[0m \u001b[0merrors\u001b[0m \u001b[1;33m!=\u001b[0m \u001b[1;34m\"ignore\"\u001b[0m\u001b[1;33m:\u001b[0m\u001b[1;33m\u001b[0m\u001b[1;33m\u001b[0m\u001b[0m\n\u001b[1;32m-> 6017\u001b[1;33m                 \u001b[1;32mraise\u001b[0m \u001b[0mKeyError\u001b[0m\u001b[1;33m(\u001b[0m\u001b[1;34mf\"{labels[mask]} not found in axis\"\u001b[0m\u001b[1;33m)\u001b[0m\u001b[1;33m\u001b[0m\u001b[1;33m\u001b[0m\u001b[0m\n\u001b[0m\u001b[0;32m   6018\u001b[0m             \u001b[0mindexer\u001b[0m \u001b[1;33m=\u001b[0m \u001b[0mindexer\u001b[0m\u001b[1;33m[\u001b[0m\u001b[1;33m~\u001b[0m\u001b[0mmask\u001b[0m\u001b[1;33m]\u001b[0m\u001b[1;33m\u001b[0m\u001b[1;33m\u001b[0m\u001b[0m\n\u001b[0;32m   6019\u001b[0m         \u001b[1;32mreturn\u001b[0m \u001b[0mself\u001b[0m\u001b[1;33m.\u001b[0m\u001b[0mdelete\u001b[0m\u001b[1;33m(\u001b[0m\u001b[0mindexer\u001b[0m\u001b[1;33m)\u001b[0m\u001b[1;33m\u001b[0m\u001b[1;33m\u001b[0m\u001b[0m\n",
      "\u001b[1;31mKeyError\u001b[0m: \"['Unit' 'Invoice'] not found in axis\""
     ]
    }
   ],
   "source": [
    "sale = pd.read_excel('last365posthospital.xlsx',engine='openpyxl',header=0,skiprows=5, parse_dates=False)#sales by product summary last 365 no totals export\n",
    "sale = sale.drop(['Unit','Invoice','Profit'],axis=1).reset_index()#COGS too\n",
    "sale = sale[(sale.Customer.isin(custs)) & (sale.Product.notnull())]\n",
    "sale['Unit'] = sale.Sale / sale.Quantity\n",
    "sale.head()"
   ]
  },
  {
   "cell_type": "code",
   "execution_count": null,
   "id": "853bfe45",
   "metadata": {},
   "outputs": [],
   "source": [
    "#sale[(sale.Product.str.contains('Del Maguey')) & (sale.Customer == 'Customer Square 3')]"
   ]
  },
  {
   "cell_type": "code",
   "execution_count": null,
   "id": "fbafc40b",
   "metadata": {},
   "outputs": [],
   "source": [
    "master = df.merge(right=sale,on=['Product','Customer'],how='outer')\n",
    "master.drop(['index'],axis=1,inplace=True)\n",
    "master.Unit = master.apply(lambda row: master[master.Product == row.Product].Unit.max(),axis=1)\n",
    "master[\"StockValue\"] = master.OnHand * master.Unit\n",
    "master = master.reindex(columns=['SKU','Product','Customer','Location','Status','Category_x','Category_y','OnHand','Quantity','Sale','Unit','StockValue'])\n",
    "master.rename(columns={'Category_x':'CategoryDear','Category_y':'CategorySale'},inplace=True)\n",
    "master.iloc[3:10]# shows a few cases of where NaN rows matter"
   ]
  },
  {
   "cell_type": "code",
   "execution_count": null,
   "id": "ec79380b",
   "metadata": {},
   "outputs": [],
   "source": [
    "master = master[(master.OnHand > 0) | (master.Quantity.notnull()) & (master.SKU.notnull())] #get rid of things we probably just don't support anymore and stupid anomolies\n",
    "master.iloc[3:10]"
   ]
  },
  {
   "cell_type": "code",
   "execution_count": null,
   "id": "c05d4e5e",
   "metadata": {
    "scrolled": true
   },
   "outputs": [],
   "source": []
  },
  {
   "cell_type": "code",
   "execution_count": null,
   "id": "660d74d8",
   "metadata": {},
   "outputs": [],
   "source": [
    "#jared = smart[smart.Customer == 'Customer Square 3'].groupby('Category').Product.count()\n",
    "dead_cats = master.groupby(['CategoryDear','Customer']).CategorySale.count()\n",
    "total_cats = master.groupby(['CategoryDear','Customer']).CategoryDear.count()\n",
    "#with pd.option_context('display.max_rows', None, 'display.max_columns', None):  # more options can be specified also\n",
    "#    print(jared)\n",
    "#print(dead_cats,\"\\n\",total_cats)"
   ]
  },
  {
   "cell_type": "code",
   "execution_count": null,
   "id": "be1b827b",
   "metadata": {},
   "outputs": [],
   "source": [
    "master[(master.OnHand > 2) & (master.Quantity.isnull()) & (master.Location == 'Oak Hill')].to_csv('tempOHout.csv',index=False)"
   ]
  },
  {
   "cell_type": "code",
   "execution_count": null,
   "id": "5b914983",
   "metadata": {},
   "outputs": [],
   "source": [
    "t1 = dead_cats.to_frame()\n",
    "t1 = t1.rename(columns={'CategorySale':'Category'})\n",
    "\n",
    "t2 = total_cats.to_frame()\n",
    "t2 = t2.rename(columns={'CategoryDear':'Category'})\n",
    "\n",
    "cats = t1.merge(right=t2,on=['CategoryDear','Customer'],suffixes=('_Sold', '_Total'))\n",
    "cats = cats.reset_index()\n",
    "cats.head()"
   ]
  },
  {
   "cell_type": "code",
   "execution_count": null,
   "id": "c0789413",
   "metadata": {},
   "outputs": [],
   "source": [
    "#now we create a column of savings for if we dropped all the dead weight per row to show savings\n",
    "cats[\"Savings\"] = cats.apply(lambda row: master[(master.CategoryDear == row.CategoryDear) & (master.Customer == row.Customer) & (master.Quantity.isnull())].StockValue.sum(),axis=1)\n",
    "cats.to_csv('DeadCats.csv',index=False)"
   ]
  },
  {
   "cell_type": "code",
   "execution_count": null,
   "id": "d16cb6b8",
   "metadata": {},
   "outputs": [],
   "source": [
    "cats.groupby('Customer').Savings.sum()\n",
    "#cats.Savings.sum()/1.35"
   ]
  },
  {
   "cell_type": "code",
   "execution_count": null,
   "id": "92eb906a",
   "metadata": {},
   "outputs": [],
   "source": []
  }
 ],
 "metadata": {
  "kernelspec": {
   "display_name": "Python 3",
   "language": "python",
   "name": "python3"
  },
  "language_info": {
   "codemirror_mode": {
    "name": "ipython",
    "version": 3
   },
   "file_extension": ".py",
   "mimetype": "text/x-python",
   "name": "python",
   "nbconvert_exporter": "python",
   "pygments_lexer": "ipython3",
   "version": "3.9.5"
  }
 },
 "nbformat": 4,
 "nbformat_minor": 5
}
