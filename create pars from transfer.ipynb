{
 "cells": [
  {
   "cell_type": "code",
   "execution_count": 1,
   "id": "9be80ca5",
   "metadata": {},
   "outputs": [],
   "source": [
    "import pandas as pd\n",
    "#import matplotlib.pyplot as plt\n",
    "#import matplotlib.dates as mdates\n",
    "import numpy as np\n",
    "from datetime import datetime\n",
    "from datetime import date"
   ]
  },
  {
   "cell_type": "code",
   "execution_count": 2,
   "id": "ddb2f73d",
   "metadata": {},
   "outputs": [],
   "source": [
    "store = 'Pleasant Valley' #MUST BE DONE MANUALLY\n",
    "\n",
    "#transfer = pd.read_csv('inputs/StockTransferOrderLines.csv',header=0,dtype=str)\n",
    "transfer = pd.read_csv('inputs/StockTransferLines.csv',header=0,dtype=str)\n",
    "\n",
    "pars = pd.read_csv('inputs/StockReorderlocations_2022-10-04.csv',header=0,dtype=str)"
   ]
  },
  {
   "cell_type": "code",
   "execution_count": 3,
   "id": "9a0d847a",
   "metadata": {},
   "outputs": [
    {
     "data": {
      "text/html": [
       "<div>\n",
       "<style scoped>\n",
       "    .dataframe tbody tr th:only-of-type {\n",
       "        vertical-align: middle;\n",
       "    }\n",
       "\n",
       "    .dataframe tbody tr th {\n",
       "        vertical-align: top;\n",
       "    }\n",
       "\n",
       "    .dataframe thead th {\n",
       "        text-align: right;\n",
       "    }\n",
       "</style>\n",
       "<table border=\"1\" class=\"dataframe\">\n",
       "  <thead>\n",
       "    <tr style=\"text-align: right;\">\n",
       "      <th></th>\n",
       "      <th>Action</th>\n",
       "      <th>ProductSKU</th>\n",
       "      <th>ProductName</th>\n",
       "      <th>Location</th>\n",
       "      <th>MinimumBeforeReorder</th>\n",
       "      <th>ReorderQuantity</th>\n",
       "      <th>StockLocator</th>\n",
       "      <th>PickZones</th>\n",
       "    </tr>\n",
       "  </thead>\n",
       "  <tbody>\n",
       "    <tr>\n",
       "      <th>1</th>\n",
       "      <td>Create/Update</td>\n",
       "      <td>086785024684</td>\n",
       "      <td>Drumshanbo Irish Gin 375ml</td>\n",
       "      <td>Pleasant Valley</td>\n",
       "      <td>4.0000</td>\n",
       "      <td>12.0000</td>\n",
       "      <td>NaN</td>\n",
       "      <td>NaN</td>\n",
       "    </tr>\n",
       "    <tr>\n",
       "      <th>3</th>\n",
       "      <td>Create/Update</td>\n",
       "      <td>00850030152466</td>\n",
       "      <td>DEHY Grapefruit Jar</td>\n",
       "      <td>Pleasant Valley</td>\n",
       "      <td>2.0000</td>\n",
       "      <td>12.0000</td>\n",
       "      <td>NaN</td>\n",
       "      <td>NaN</td>\n",
       "    </tr>\n",
       "  </tbody>\n",
       "</table>\n",
       "</div>"
      ],
      "text/plain": [
       "          Action      ProductSKU                 ProductName         Location  \\\n",
       "1  Create/Update    086785024684  Drumshanbo Irish Gin 375ml  Pleasant Valley   \n",
       "3  Create/Update  00850030152466         DEHY Grapefruit Jar  Pleasant Valley   \n",
       "\n",
       "  MinimumBeforeReorder ReorderQuantity StockLocator PickZones  \n",
       "1               4.0000         12.0000          NaN       NaN  \n",
       "3               2.0000         12.0000          NaN       NaN  "
      ]
     },
     "execution_count": 3,
     "metadata": {},
     "output_type": "execute_result"
    }
   ],
   "source": [
    "pars = pars[pars.Location == store] #MUST BE DONE MANUALLY\n",
    "pars.head(2)"
   ]
  },
  {
   "cell_type": "code",
   "execution_count": 4,
   "id": "218c1119",
   "metadata": {},
   "outputs": [
    {
     "data": {
      "text/html": [
       "<div>\n",
       "<style scoped>\n",
       "    .dataframe tbody tr th:only-of-type {\n",
       "        vertical-align: middle;\n",
       "    }\n",
       "\n",
       "    .dataframe tbody tr th {\n",
       "        vertical-align: top;\n",
       "    }\n",
       "\n",
       "    .dataframe thead th {\n",
       "        text-align: right;\n",
       "    }\n",
       "</style>\n",
       "<table border=\"1\" class=\"dataframe\">\n",
       "  <thead>\n",
       "    <tr style=\"text-align: right;\">\n",
       "      <th></th>\n",
       "      <th>ProductSKU</th>\n",
       "      <th>Name</th>\n",
       "      <th>Transfer Quantity</th>\n",
       "      <th>Comments</th>\n",
       "      <th>Location</th>\n",
       "    </tr>\n",
       "  </thead>\n",
       "  <tbody>\n",
       "    <tr>\n",
       "      <th>0</th>\n",
       "      <td>5060093991710</td>\n",
       "      <td>6 O'clock Sloe Gin 750ml</td>\n",
       "      <td>2</td>\n",
       "      <td>NaN</td>\n",
       "      <td>Warehouse</td>\n",
       "    </tr>\n",
       "    <tr>\n",
       "      <th>1</th>\n",
       "      <td>860076000317</td>\n",
       "      <td>Amass Dry Gin 750ml</td>\n",
       "      <td>1</td>\n",
       "      <td>NaN</td>\n",
       "      <td>Warehouse</td>\n",
       "    </tr>\n",
       "  </tbody>\n",
       "</table>\n",
       "</div>"
      ],
      "text/plain": [
       "      ProductSKU                      Name Transfer Quantity Comments  \\\n",
       "0  5060093991710  6 O'clock Sloe Gin 750ml                 2      NaN   \n",
       "1   860076000317       Amass Dry Gin 750ml                 1      NaN   \n",
       "\n",
       "    Location  \n",
       "0  Warehouse  \n",
       "1  Warehouse  "
      ]
     },
     "execution_count": 4,
     "metadata": {},
     "output_type": "execute_result"
    }
   ],
   "source": [
    "transfer.rename(columns={'SKU':'ProductSKU'},inplace=True)\n",
    "transfer.drop(columns=['BatchSerialNumber','ExpiryDate_YYYYMMDD'],inplace=True)\n",
    "transfer.head(2)"
   ]
  },
  {
   "cell_type": "code",
   "execution_count": 5,
   "id": "a2ac9eb7",
   "metadata": {},
   "outputs": [],
   "source": [
    "creation = pars.merge(transfer,on='ProductSKU', how='right')#.drop_duplicates(keep='first')\n",
    "#creation.head()"
   ]
  },
  {
   "cell_type": "code",
   "execution_count": 6,
   "id": "bf4b4f10",
   "metadata": {
    "scrolled": true
   },
   "outputs": [
    {
     "data": {
      "text/html": [
       "<div>\n",
       "<style scoped>\n",
       "    .dataframe tbody tr th:only-of-type {\n",
       "        vertical-align: middle;\n",
       "    }\n",
       "\n",
       "    .dataframe tbody tr th {\n",
       "        vertical-align: top;\n",
       "    }\n",
       "\n",
       "    .dataframe thead th {\n",
       "        text-align: right;\n",
       "    }\n",
       "</style>\n",
       "<table border=\"1\" class=\"dataframe\">\n",
       "  <thead>\n",
       "    <tr style=\"text-align: right;\">\n",
       "      <th></th>\n",
       "      <th>Action</th>\n",
       "      <th>ProductSKU</th>\n",
       "      <th>ProductName</th>\n",
       "      <th>Location_x</th>\n",
       "      <th>MinimumBeforeReorder</th>\n",
       "      <th>ReorderQuantity</th>\n",
       "      <th>StockLocator</th>\n",
       "      <th>PickZones</th>\n",
       "    </tr>\n",
       "  </thead>\n",
       "  <tbody>\n",
       "    <tr>\n",
       "      <th>0</th>\n",
       "      <td>Create/Update</td>\n",
       "      <td>5060093991710</td>\n",
       "      <td>6 O'clock Sloe Gin 750ml</td>\n",
       "      <td>Pleasant Valley</td>\n",
       "      <td>NaN</td>\n",
       "      <td>NaN</td>\n",
       "      <td>NaN</td>\n",
       "      <td>NaN</td>\n",
       "    </tr>\n",
       "    <tr>\n",
       "      <th>1</th>\n",
       "      <td>Create/Update</td>\n",
       "      <td>860076000317</td>\n",
       "      <td>Amass Dry Gin 750ml</td>\n",
       "      <td>Pleasant Valley</td>\n",
       "      <td>NaN</td>\n",
       "      <td>NaN</td>\n",
       "      <td>NaN</td>\n",
       "      <td>NaN</td>\n",
       "    </tr>\n",
       "    <tr>\n",
       "      <th>2</th>\n",
       "      <td>Create/Update</td>\n",
       "      <td>850047003003</td>\n",
       "      <td>Angels Envy Bourbon 750ml</td>\n",
       "      <td>Pleasant Valley</td>\n",
       "      <td>2.0000</td>\n",
       "      <td>6.0000</td>\n",
       "      <td>NaN</td>\n",
       "      <td>NaN</td>\n",
       "    </tr>\n",
       "  </tbody>\n",
       "</table>\n",
       "</div>"
      ],
      "text/plain": [
       "          Action     ProductSKU                ProductName       Location_x  \\\n",
       "0  Create/Update  5060093991710   6 O'clock Sloe Gin 750ml  Pleasant Valley   \n",
       "1  Create/Update   860076000317        Amass Dry Gin 750ml  Pleasant Valley   \n",
       "2  Create/Update   850047003003  Angels Envy Bourbon 750ml  Pleasant Valley   \n",
       "\n",
       "  MinimumBeforeReorder ReorderQuantity StockLocator PickZones  \n",
       "0                  NaN             NaN          NaN       NaN  \n",
       "1                  NaN             NaN          NaN       NaN  \n",
       "2               2.0000          6.0000          NaN       NaN  "
      ]
     },
     "execution_count": 6,
     "metadata": {},
     "output_type": "execute_result"
    }
   ],
   "source": [
    "creation.ProductName = creation.Name\n",
    "creation.Action = 'Create/Update'\n",
    "creation.Location_x = store\n",
    "creation.drop(columns=['Name','Transfer Quantity','Comments','Location_y'],inplace=True) #might have to rename quantity\n",
    "creation.head(3)"
   ]
  },
  {
   "cell_type": "markdown",
   "id": "85988348",
   "metadata": {},
   "source": [
    "## Very Important Assertion!"
   ]
  },
  {
   "cell_type": "code",
   "execution_count": 7,
   "id": "1ce8d7a4",
   "metadata": {},
   "outputs": [
    {
     "data": {
      "text/plain": [
       "array([ True,  True,  True, False,  True,  True,  True,  True])"
      ]
     },
     "execution_count": 7,
     "metadata": {},
     "output_type": "execute_result"
    }
   ],
   "source": [
    "creation.columns == pars.columns"
   ]
  },
  {
   "cell_type": "code",
   "execution_count": 8,
   "id": "cd82124a",
   "metadata": {},
   "outputs": [],
   "source": [
    "creation.to_csv('outputs/ParsFromTransfer.csv',index=False)"
   ]
  },
  {
   "cell_type": "code",
   "execution_count": null,
   "id": "af284971",
   "metadata": {},
   "outputs": [],
   "source": []
  }
 ],
 "metadata": {
  "kernelspec": {
   "display_name": "Python 3 (ipykernel)",
   "language": "python",
   "name": "python3"
  },
  "language_info": {
   "codemirror_mode": {
    "name": "ipython",
    "version": 3
   },
   "file_extension": ".py",
   "mimetype": "text/x-python",
   "name": "python",
   "nbconvert_exporter": "python",
   "pygments_lexer": "ipython3",
   "version": "3.9.7"
  }
 },
 "nbformat": 4,
 "nbformat_minor": 5
}
