{
 "cells": [
  {
   "cell_type": "markdown",
   "id": "adf09e97",
   "metadata": {},
   "source": [
    "# Clean Go at Par Formation"
   ]
  },
  {
   "cell_type": "code",
   "execution_count": 1,
   "id": "284a544c",
   "metadata": {},
   "outputs": [],
   "source": [
    "import pandas as pd\n",
    "#import matplotlib.pyplot as plt\n",
    "#import matplotlib.dates as mdates\n",
    "import numpy as np\n",
    "from datetime import datetime\n",
    "from datetime import date"
   ]
  },
  {
   "cell_type": "markdown",
   "id": "829bb062",
   "metadata": {},
   "source": [
    "## Read the file in, from the \"inputs\" folder to Pandas"
   ]
  },
  {
   "cell_type": "code",
   "execution_count": null,
   "id": "3d57d9d3",
   "metadata": {},
   "outputs": [],
   "source": [
    "#DEAR -> REPORTS -> SALES BY PRODUCT DETAILS -> [select time frame] -> EXPORT -> EXCEL WITHOUT TOTALS\n",
    "\n",
    "df = pd.read_excel('inputs/2022startthrough29may22.xlsx',engine='openpyxl',header=0,skiprows=5, parse_dates=False)#parse_dates didn't work, see below"
   ]
  },
  {
   "cell_type": "markdown",
   "id": "eec1fcc2",
   "metadata": {},
   "source": [
    "## Start Cleaning and Featuring"
   ]
  },
  {
   "cell_type": "code",
   "execution_count": null,
   "id": "11d1fe28",
   "metadata": {},
   "outputs": [],
   "source": [
    "#initial cleaning setup\n",
    "retail_names = ['Airport','Pleasant Valley','Oak Hill'] # make sure this matches the above list length - no known automation possible\n",
    "list_of_retail_stores = ['Customer Square ' + str(x+1) for x in range(len(retail_names))] #we have 3 stores active, we won't count the Warehouse\n",
    "store_map = dict(zip(list_of_retail_stores,retail_names))\n",
    "\n",
    "#ws = df[df.Customer.isin(list_of_retail_stores) == False] #WHOLESALE\n",
    "df = df[df.Customer.isin(list_of_retail_stores) & df.Product.notnull()].reset_index(drop=True) #remove wholesale and weird null anomoly entries"
   ]
  },
  {
   "cell_type": "markdown",
   "id": "cd287b4d",
   "metadata": {},
   "source": [
    "### Check for duplicate products / DEAR errors (Backend inventory management system)"
   ]
  },
  {
   "cell_type": "code",
   "execution_count": null,
   "id": "0193c1e6",
   "metadata": {},
   "outputs": [],
   "source": [
    "#df['SKU'] = df.SKU.apply(str)\n",
    "temp = df.groupby([\"Product\",\"SKU\"]).count().reset_index()\n",
    "temp[temp['Product'].duplicated()]"
   ]
  },
  {
   "cell_type": "code",
   "execution_count": null,
   "id": "358d1ccc",
   "metadata": {},
   "outputs": [],
   "source": [
    "#start cleaning some of the unused or needed columns / rows, converting \"Invoice Date\" to datetime objects\n",
    "df = df.drop(['SKU', 'COGS','Profit'], axis=1, inplace=False)#not trusted data columns or useful, we'll ignore them for now\n",
    "df = df.rename(columns={'Invoice Date':'Date'})#renaming for legibility "
   ]
  },
  {
   "cell_type": "code",
   "execution_count": null,
   "id": "707e5603",
   "metadata": {},
   "outputs": [],
   "source": [
    "df['Date'] = pd.to_datetime(df['Date'], format='%d-%b-%Y')#get these dates converted from string to something more powerful\n",
    "df['Month'] = df.Date.apply(lambda x: x.month)#.month_name() also an option but i dont trust yet\n",
    "df['Weekday'] = df.Date.apply(lambda x: x.dayofweek)#Monday is 0, Sunday is 6, day_name() also an option but i dont trust yet\n",
    "df['Week'] = df.Date.apply(lambda x: x.isocalendar()[1])#x.isocalendar().week\n",
    "df[\"Unit\"] = df.Sale / df.Quantity\n",
    "df.head()"
   ]
  },
  {
   "cell_type": "code",
   "execution_count": null,
   "id": "10f181d1",
   "metadata": {},
   "outputs": [],
   "source": [
    "#quick wine filter setup and check to make sure there's no items with bad categories that need fixing\n",
    "\n",
    "active_categories = df.Category.unique().tolist()\n",
    "active_categories.sort()\n",
    "#print(active_categories)\n",
    "\n",
    "wine_list = ['White','Orange Wine','Bubbles','Red New World','Red Old World','Rose']#active categories just for vino\n",
    "whiskey_list = ['Whiskey American Single Malt', 'Whiskey Bourbon/American', 'Whiskey Canadian', 'Whiskey French', 'Whiskey Indian', 'Whiskey Irish', 'Whiskey Japanese', 'Whiskey Mexican', 'Whiskey Rye', 'Whiskey Scotch', 'Whiskey Taiwaneese', 'Whisky German']\n",
    "itnl_whiskey = ['Whiskey French', 'Whiskey Indian', 'Whiskey Mexican', 'Whiskey Taiwaneese', 'Whisky German']"
   ]
  },
  {
   "cell_type": "code",
   "execution_count": null,
   "id": "b6e2b587",
   "metadata": {},
   "outputs": [],
   "source": [
    "df['Category'] = df.apply(lambda row: \"Itnl Whiskey\" if row.Category in itnl_whiskey else row.Category,axis=1)\n",
    "#df[df.Category == 'Itnl Whiskey']"
   ]
  },
  {
   "cell_type": "code",
   "execution_count": null,
   "id": "8e133932",
   "metadata": {},
   "outputs": [],
   "source": [
    "##explain\n",
    "pars = df[df.Product != 'eGift Card'].groupby(['Product','Week','Customer']).Quantity.sum().reset_index()\n",
    "#test = pars[(pars.Product == 'Deep Eddy Lemon 750ml') & (pars.Customer == 'Customer Square 2')].Quantity.describe()\n",
    "\n",
    "gather = []\n",
    "for product in pars.Product.unique():\n",
    "    for store in list_of_retail_stores:\n",
    "        qs = pars[(pars.Product == product) & (pars.Customer == store)].Quantity.to_list()\n",
    "        tl = len(qs)#temporary length\n",
    "        while len(qs) < 52: # eventually future proof this for any date range given\n",
    "            qs.append(0)\n",
    "        qs = np.array(qs)\n",
    "        gather.append([product,store,tl,qs.mean(),qs.std(),qs.min(),qs.max(),np.percentile(qs,25),np.percentile(qs,50),np.percentile(qs,75)])\n",
    "        \n",
    "par_suggest = pd.DataFrame(gather,columns=['Product','Customer','Count','Mean','Std','Min','Max','25','50','75'])\n",
    "#output.to_csv('parguide.csv',index=False)\n",
    "#par_suggest.head()"
   ]
  }
 ],
 "metadata": {
  "kernelspec": {
   "display_name": "Python 3",
   "language": "python",
   "name": "python3"
  },
  "language_info": {
   "codemirror_mode": {
    "name": "ipython",
    "version": 3
   },
   "file_extension": ".py",
   "mimetype": "text/x-python",
   "name": "python",
   "nbconvert_exporter": "python",
   "pygments_lexer": "ipython3",
   "version": "3.9.5"
  }
 },
 "nbformat": 4,
 "nbformat_minor": 5
}
