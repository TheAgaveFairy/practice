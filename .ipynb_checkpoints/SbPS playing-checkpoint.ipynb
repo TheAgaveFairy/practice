{
 "cells": [
  {
   "cell_type": "code",
   "execution_count": 1,
   "id": "1c7cc6ad",
   "metadata": {},
   "outputs": [],
   "source": [
    "import pandas as pd\n",
    "import matplotlib.pyplot as plt\n",
    "import numpy as np"
   ]
  },
  {
   "cell_type": "code",
   "execution_count": 2,
   "id": "f30d2e4d",
   "metadata": {},
   "outputs": [],
   "source": [
    "#DEAR -> REPORTS -> SALES BY PRODUCT SUMMARY -> [select time frame] -> EXPORT -> EXCEL WITHOUT TOTALS\n",
    "sales_report= pd.read_excel('2021almost.xlsx',engine='openpyxl',header=0,skiprows=5)"
   ]
  },
  {
   "cell_type": "code",
   "execution_count": 3,
   "id": "1cf2b5c2",
   "metadata": {},
   "outputs": [
    {
     "name": "stdout",
     "output_type": "stream",
     "text": [
      "                               Product                Category  Unit  \\\n",
      "0                                  NaN                 Service  Item   \n",
      "1                                  NaN                 Service  Item   \n",
      "2                        1 Water 355ml  Non Alcoholic Beverage  Item   \n",
      "3                        1 Water 355ml  Non Alcoholic Beverage  Item   \n",
      "4      123 Organic Anejo Tequila 750ml                 Tequila  Item   \n",
      "5      123 Organic Anejo Tequila 750ml                 Tequila  Item   \n",
      "6      123 Organic Anejo Tequila 750ml                 Tequila  Item   \n",
      "7      123 Organic Anejo Tequila 750ml                 Tequila  Item   \n",
      "8     123 Organic Blanco Tequila 750ml                 Tequila  Item   \n",
      "9     123 Organic Blanco Tequila 750ml                 Tequila  Item   \n",
      "10    123 Organic Blanco Tequila 750ml                 Tequila  Item   \n",
      "11  123 Organic Reposado Tequila 750ml                 Tequila  Item   \n",
      "12  123 Organic Reposado Tequila 750ml                 Tequila  Item   \n",
      "13  123 Organic Reposado Tequila 750ml                 Tequila  Item   \n",
      "14  123 Organic Reposado Tequila 750ml                 Tequila  Item   \n",
      "\n",
      "             Customer  Quantity  Invoice     Sale     COGS    Profit  \n",
      "0   Customer Square 1        14  1186.87  1096.91    0.000  1096.910  \n",
      "1   Customer Square 2        10   347.04   320.97    0.000   320.970  \n",
      "2   Customer Square 1         6     9.12     9.00    1.373     7.627  \n",
      "3   Customer Square 2         1     1.62     1.50    0.500     1.000  \n",
      "4   Customer Square 1         3   194.81   179.97  129.370    50.600  \n",
      "5   Customer Square 2         6   383.15   353.94  258.740    95.200  \n",
      "6   Customer Square 3         1    64.94    59.99   41.240    18.750  \n",
      "7     De Nada Cantina         1    46.85    46.85   41.240     5.610  \n",
      "8   Customer Square 1         3   155.85   143.97  100.770    43.200  \n",
      "9   Customer Square 2         8   415.20   383.92  268.720   115.200  \n",
      "10    De Nada Cantina         2    74.64    74.64   67.180     7.460  \n",
      "11  Customer Square 1         3   185.08   170.97  119.670    51.300  \n",
      "12  Customer Square 2         4   246.29   227.96  159.560    68.400  \n",
      "13  Customer Square 3         1    61.69    56.99   39.890    17.100  \n",
      "14    De Nada Cantina         2    88.64    88.64   79.780     8.860  \n"
     ]
    }
   ],
   "source": [
    "print(sales_report.head(15))\n",
    "#output = sales_report[sales_report['Customer'] is not pd.NA].groupby('Product').sum()\n",
    "#output.to_csv('temphiko.csv')"
   ]
  },
  {
   "cell_type": "code",
   "execution_count": 4,
   "id": "626c910b",
   "metadata": {},
   "outputs": [
    {
     "data": {
      "text/plain": [
       "['Customer Square 1', 'Customer Square 2', 'Customer Square 3']"
      ]
     },
     "execution_count": 4,
     "metadata": {},
     "output_type": "execute_result"
    }
   ],
   "source": [
    "list_of_retail_stores = ['Customer Square ' + str(x) for x in range(1,4)] #we have 3 stores active, we won't count the Warehouse (CS4?)\n",
    "list_of_retail_stores"
   ]
  },
  {
   "cell_type": "code",
   "execution_count": 5,
   "id": "54fbf400",
   "metadata": {},
   "outputs": [],
   "source": [
    "#ignore all the wholesale accounts and just show retail\n",
    "sales_retail = sales_report[sales_report.Customer.isin(list_of_retail_stores)]"
   ]
  },
  {
   "cell_type": "code",
   "execution_count": 6,
   "id": "54742ca8",
   "metadata": {},
   "outputs": [],
   "source": [
    "#creating a table where item sales go to each column, this isn't the best practice in hindsight for anything other than readability\n",
    "sales_pivot = sales_retail.pivot(columns='Customer',index='Product',values='Quantity')\n",
    "sales_pivot.index.name = sales_pivot.columns.name = None\n",
    "sales_pivot.reset_index(inplace=True)\n",
    "sales = sales_pivot.rename(columns={'index':'Product','Customer Square 1':'AP','Customer Square 2':'PV','Customer Square 3':'OH'})\n",
    "#print(sales.columns)"
   ]
  },
  {
   "cell_type": "code",
   "execution_count": 7,
   "id": "7e84aba2",
   "metadata": {},
   "outputs": [],
   "source": [
    "#since the categories don't carry over from the pivot, we have to regen those\n",
    "find_category = lambda x : sales_report.loc[sales_report['Product'] == x['Product']].head(1).Category.to_string(index=False)\n",
    "#find_price = lambda x : sales_report.loc[sales_report['Retail']]#requires another imported worksheet you'd generate in Dear"
   ]
  },
  {
   "cell_type": "code",
   "execution_count": 8,
   "id": "7ba1b080",
   "metadata": {},
   "outputs": [
    {
     "data": {
      "text/html": [
       "<div>\n",
       "<style scoped>\n",
       "    .dataframe tbody tr th:only-of-type {\n",
       "        vertical-align: middle;\n",
       "    }\n",
       "\n",
       "    .dataframe tbody tr th {\n",
       "        vertical-align: top;\n",
       "    }\n",
       "\n",
       "    .dataframe thead th {\n",
       "        text-align: right;\n",
       "    }\n",
       "</style>\n",
       "<table border=\"1\" class=\"dataframe\">\n",
       "  <thead>\n",
       "    <tr style=\"text-align: right;\">\n",
       "      <th></th>\n",
       "      <th>Product</th>\n",
       "      <th>AP</th>\n",
       "      <th>PV</th>\n",
       "      <th>OH</th>\n",
       "      <th>Category</th>\n",
       "      <th>Total</th>\n",
       "    </tr>\n",
       "  </thead>\n",
       "  <tbody>\n",
       "    <tr>\n",
       "      <th>0</th>\n",
       "      <td>0</td>\n",
       "      <td>14.0</td>\n",
       "      <td>10.0</td>\n",
       "      <td>0.0</td>\n",
       "      <td>Series([], )</td>\n",
       "      <td>24.0</td>\n",
       "    </tr>\n",
       "    <tr>\n",
       "      <th>1</th>\n",
       "      <td>1 Water 355ml</td>\n",
       "      <td>6.0</td>\n",
       "      <td>1.0</td>\n",
       "      <td>0.0</td>\n",
       "      <td>Non Alcoholic Beverage</td>\n",
       "      <td>7.0</td>\n",
       "    </tr>\n",
       "    <tr>\n",
       "      <th>2</th>\n",
       "      <td>123 Organic Anejo Tequila 750ml</td>\n",
       "      <td>3.0</td>\n",
       "      <td>6.0</td>\n",
       "      <td>1.0</td>\n",
       "      <td>Tequila</td>\n",
       "      <td>10.0</td>\n",
       "    </tr>\n",
       "    <tr>\n",
       "      <th>3</th>\n",
       "      <td>123 Organic Blanco Tequila 750ml</td>\n",
       "      <td>3.0</td>\n",
       "      <td>8.0</td>\n",
       "      <td>0.0</td>\n",
       "      <td>Tequila</td>\n",
       "      <td>11.0</td>\n",
       "    </tr>\n",
       "    <tr>\n",
       "      <th>4</th>\n",
       "      <td>123 Organic Reposado Tequila 750ml</td>\n",
       "      <td>3.0</td>\n",
       "      <td>4.0</td>\n",
       "      <td>1.0</td>\n",
       "      <td>Tequila</td>\n",
       "      <td>8.0</td>\n",
       "    </tr>\n",
       "    <tr>\n",
       "      <th>...</th>\n",
       "      <td>...</td>\n",
       "      <td>...</td>\n",
       "      <td>...</td>\n",
       "      <td>...</td>\n",
       "      <td>...</td>\n",
       "      <td>...</td>\n",
       "    </tr>\n",
       "    <tr>\n",
       "      <th>4594</th>\n",
       "      <td>Zubrowka Bison Grass Vodka 750ml</td>\n",
       "      <td>26.0</td>\n",
       "      <td>46.0</td>\n",
       "      <td>8.0</td>\n",
       "      <td>Vodka</td>\n",
       "      <td>80.0</td>\n",
       "    </tr>\n",
       "    <tr>\n",
       "      <th>4595</th>\n",
       "      <td>Zucca Rabarbaro 750ml</td>\n",
       "      <td>8.0</td>\n",
       "      <td>11.0</td>\n",
       "      <td>4.0</td>\n",
       "      <td>Amaro</td>\n",
       "      <td>23.0</td>\n",
       "    </tr>\n",
       "    <tr>\n",
       "      <th>4596</th>\n",
       "      <td>Zunte Mezcal Artesenal 750ml</td>\n",
       "      <td>1.0</td>\n",
       "      <td>0.0</td>\n",
       "      <td>0.0</td>\n",
       "      <td>Mezcal</td>\n",
       "      <td>1.0</td>\n",
       "    </tr>\n",
       "    <tr>\n",
       "      <th>4597</th>\n",
       "      <td>Zwack Liqueur 750ml</td>\n",
       "      <td>8.0</td>\n",
       "      <td>7.0</td>\n",
       "      <td>1.0</td>\n",
       "      <td>Amaro</td>\n",
       "      <td>16.0</td>\n",
       "    </tr>\n",
       "    <tr>\n",
       "      <th>4598</th>\n",
       "      <td>eGift Card</td>\n",
       "      <td>0.0</td>\n",
       "      <td>0.0</td>\n",
       "      <td>32.0</td>\n",
       "      <td>Service</td>\n",
       "      <td>32.0</td>\n",
       "    </tr>\n",
       "  </tbody>\n",
       "</table>\n",
       "<p>4599 rows × 6 columns</p>\n",
       "</div>"
      ],
      "text/plain": [
       "                                 Product    AP    PV    OH  \\\n",
       "0                                      0  14.0  10.0   0.0   \n",
       "1                          1 Water 355ml   6.0   1.0   0.0   \n",
       "2        123 Organic Anejo Tequila 750ml   3.0   6.0   1.0   \n",
       "3       123 Organic Blanco Tequila 750ml   3.0   8.0   0.0   \n",
       "4     123 Organic Reposado Tequila 750ml   3.0   4.0   1.0   \n",
       "...                                  ...   ...   ...   ...   \n",
       "4594    Zubrowka Bison Grass Vodka 750ml  26.0  46.0   8.0   \n",
       "4595               Zucca Rabarbaro 750ml   8.0  11.0   4.0   \n",
       "4596        Zunte Mezcal Artesenal 750ml   1.0   0.0   0.0   \n",
       "4597                 Zwack Liqueur 750ml   8.0   7.0   1.0   \n",
       "4598                          eGift Card   0.0   0.0  32.0   \n",
       "\n",
       "                    Category  Total  \n",
       "0               Series([], )   24.0  \n",
       "1     Non Alcoholic Beverage    7.0  \n",
       "2                    Tequila   10.0  \n",
       "3                    Tequila   11.0  \n",
       "4                    Tequila    8.0  \n",
       "...                      ...    ...  \n",
       "4594                   Vodka   80.0  \n",
       "4595                   Amaro   23.0  \n",
       "4596                  Mezcal    1.0  \n",
       "4597                   Amaro   16.0  \n",
       "4598                 Service   32.0  \n",
       "\n",
       "[4599 rows x 6 columns]"
      ]
     },
     "execution_count": 8,
     "metadata": {},
     "output_type": "execute_result"
    }
   ],
   "source": [
    "sales['Category'] = sales.apply(find_category,axis=1)\n",
    "sales.fillna(0,inplace=True)#replace null values anywhere with zero\n",
    "sales['Total'] = sales.AP + sales.PV + sales.OH\n",
    "#print(sales.head(10))\n",
    "sales"
   ]
  },
  {
   "cell_type": "code",
   "execution_count": 9,
   "id": "02acc16c",
   "metadata": {},
   "outputs": [
    {
     "name": "stdout",
     "output_type": "stream",
     "text": [
      "['Series([], )', 'Non Alcoholic Beverage', 'Tequila', 'Bubbles', 'Whiskey Bourbon/American', 'Vodka', 'Mixer', 'Orange Wine', 'Craft Beer', 'Red New World', 'Whiskey Rye', 'Mezcal', 'Bag', 'Liqueur', 'Garnish', 'White', 'Whiskey Mexican', 'Whiskey Scotch', 'Bar Tools', 'Glassware', 'Absinthe', 'Rum', 'Retail', 'Whiskey Japanese', 'Whiskey Canadian', 'Fortified', 'Gin', 'Grappa', 'Bitters', 'Amaro', 'Books', 'Tobacco', 'Red Old World', 'Whiskey Indian', 'Whiskey American Single Malt', 'Cider', 'Cachaca', 'RTD', 'Ice', 'Rose', 'Pisco', 'Service', 'Shochu', 'Whiskey Irish', 'Brandy', 'Imp Beer', 'Snacks', 'Whiskey French', 'Aquavit', 'Dom Beer', 'Fruit', 'Cognac', 'Sotol', 'Soju', 'Mead', 'Calvados', 'Sake', 'Whisky German', 'Other', 'Whiskey Taiwaneese', 'Raicilla', 'Baijiu', 'Bacanora', 'Singani', 'Pox', 'Charanda']\n",
      "Empty DataFrame\n",
      "Columns: [Product, AP, PV, OH, Category, Total]\n",
      "Index: []\n"
     ]
    }
   ],
   "source": [
    "#print(np.sort(sales.Category.unique()))#just seeing how bad it is, lmao\n",
    "active_categories = sales.Category.unique().tolist()\n",
    "print(active_categories)\n",
    "wine_list = ['Bubbles','Red New World','Red Old World','Orange Wine','White','Red']#active categories\n",
    "bad_cats = ['Red','White Pinot Grigio']#add whatever else is bad, manually edit in the next cell until i automate all of this\n",
    "print(sales[sales['Category'].isin(bad_cats)])\n",
    "#sales[sales['Category'] == 'Red']"
   ]
  },
  {
   "cell_type": "code",
   "execution_count": 10,
   "id": "ca758add",
   "metadata": {},
   "outputs": [],
   "source": [
    "#manually fixes categories until i create a mapping and automate this,  best practice is to fix in DEAR and re-run report\n",
    "#sales.at[188,'Category'] = 'Red Old World'\n",
    "#sales.at[548,'Category'] = 'White'\n",
    "#sales.at[631,'Category'] = 'Red New World'\n",
    "#sales.at[2763,'Category'] = 'Red Old World'\n",
    "#sales.at[2957,'Category'] = 'Red Old World'\n",
    "#sales.at[4293,'Category'] = 'Red New World'"
   ]
  },
  {
   "cell_type": "code",
   "execution_count": 11,
   "id": "17b52c3b",
   "metadata": {},
   "outputs": [
    {
     "data": {
      "text/plain": [
       "<AxesSubplot:ylabel='Total'>"
      ]
     },
     "execution_count": 11,
     "metadata": {},
     "output_type": "execute_result"
    },
    {
     "data": {
      "image/png": "[encoded data removed]",
      "text/plain": [
       "<Figure size 432x288 with 1 Axes>"
      ]
     },
     "metadata": {},
     "output_type": "display_data"
    }
   ],
   "source": [
    "#creating a quick pie chart to show sales of wine by category\n",
    "sales = sales[sales['Category'] != 'Series([], )'] #theres a weird empty anamoly appearing in DEAR, none of us understand it\n",
    "by_cat = sales.groupby('Category').sum().reset_index()\n",
    "by_cat['Total'] = by_cat.AP + by_cat.PV + by_cat.OH\n",
    "#print(by_cat.head(20))\n",
    "by_cat.index = by_cat.Category.to_list()\n",
    "#print(by_cat.index)\n",
    "by_cat[by_cat.Category.isin(wine_list)].plot.pie(y='Total')"
   ]
  },
  {
   "cell_type": "code",
   "execution_count": 12,
   "id": "c1950180",
   "metadata": {},
   "outputs": [
    {
     "data": {
      "text/plain": [
       "<AxesSubplot:ylabel='None'>"
      ]
     },
     "execution_count": 12,
     "metadata": {},
     "output_type": "execute_result"
    },
    {
     "data": {
      "image/png": "[encoded data removed]",
      "text/plain": [
       "<Figure size 432x288 with 1 Axes>"
      ]
     },
     "metadata": {},
     "output_type": "display_data"
    }
   ],
   "source": [
    "sales[sales.columns[1:4]].sum().plot.pie()"
   ]
  },
  {
   "cell_type": "code",
   "execution_count": 13,
   "id": "3c27d818",
   "metadata": {},
   "outputs": [
    {
     "name": "stdout",
     "output_type": "stream",
     "text": [
      "                              Product      AP      PV      OH  \\\n",
      "1376                         Discount  2964.0  4081.0  2821.0   \n",
      "1768                    Fireball 50ml  4873.0  4195.0  1664.0   \n",
      "4288               Tullamore Dew 50ml   354.0   629.0   653.0   \n",
      "3170  New Amsterdam Pink Whitney 50ml  3164.0  1167.0   472.0   \n",
      "1282             Deep Eddy Peach 50ml    44.0   202.0   441.0   \n",
      "\n",
      "                      Category    Total  \n",
      "1376                   Service   9866.0  \n",
      "1768  Whiskey Bourbon/American  10732.0  \n",
      "4288             Whiskey Irish   1636.0  \n",
      "3170                     Vodka   4803.0  \n",
      "1282                     Vodka    687.0  \n"
     ]
    }
   ],
   "source": [
    "print(sales.sort_values(by='OH',ascending=False).head())"
   ]
  },
  {
   "cell_type": "code",
   "execution_count": 14,
   "id": "0aa577fa",
   "metadata": {},
   "outputs": [
    {
     "name": "stdout",
     "output_type": "stream",
     "text": [
      "                                     Product     AP     PV    OH  \\\n",
      "468        Better Half Sauvignon Blanc 750ml  383.0  468.0  73.0   \n",
      "1571                  El Jefe Tempranillo 1L  316.0  216.0  36.0   \n",
      "4565                      Wycliff Brut 750ml  131.0  302.0   0.0   \n",
      "119           Alias Cabernet Sauvignon 750ml   59.0  268.0   9.0   \n",
      "912   Chasing Lions Cabernet Sauvignon 750ml  130.0  176.0  18.0   \n",
      "\n",
      "           Category  Total  \n",
      "468           White  924.0  \n",
      "1571  Red Old World  568.0  \n",
      "4565        Bubbles  433.0  \n",
      "119   Red New World  336.0  \n",
      "912   Red New World  324.0  \n"
     ]
    }
   ],
   "source": [
    "print(sales[sales['Category'].isin(wine_list)].sort_values(by='Total',ascending=False).head())\n",
    "sales[sales['Category'].isin(wine_list)].sort_values(by='Total',ascending=False).to_csv('winetocloseout.csv',index=False)"
   ]
  },
  {
   "cell_type": "code",
   "execution_count": null,
   "id": "0863ad6b",
   "metadata": {},
   "outputs": [],
   "source": []
  }
 ],
 "metadata": {
  "kernelspec": {
   "display_name": "Python 3",
   "language": "python",
   "name": "python3"
  },
  "language_info": {
   "codemirror_mode": {
    "name": "ipython",
    "version": 3
   },
   "file_extension": ".py",
   "mimetype": "text/x-python",
   "name": "python",
   "nbconvert_exporter": "python",
   "pygments_lexer": "ipython3",
   "version": "3.9.5"
  }
 },
 "nbformat": 4,
 "nbformat_minor": 5
}
