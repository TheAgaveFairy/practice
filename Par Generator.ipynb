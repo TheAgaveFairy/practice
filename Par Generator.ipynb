{
 "cells": [
  {
   "cell_type": "markdown",
   "id": "f839042d",
   "metadata": {},
   "source": [
    "# Clean Go at Par Formation"
   ]
  },
  {
   "cell_type": "code",
   "execution_count": 1,
   "id": "a1692124",
   "metadata": {},
   "outputs": [],
   "source": [
    "import pandas as pd\n",
    "#import matplotlib.pyplot as plt\n",
    "#import matplotlib.dates as mdates\n",
    "import numpy as np\n",
    "from datetime import datetime\n",
    "from datetime import date"
   ]
  },
  {
   "cell_type": "markdown",
   "id": "63797174",
   "metadata": {},
   "source": [
    "## Read the file in, from the \"inputs\" folder to Pandas"
   ]
  },
  {
   "cell_type": "code",
   "execution_count": 2,
   "id": "fdfe165c",
   "metadata": {},
   "outputs": [],
   "source": [
    "#DEAR -> REPORTS -> SALES BY PRODUCT DETAILS -> [select time frame] -> EXPORT -> EXCEL WITHOUT TOTALS\n",
    "\n",
    "df = pd.read_excel('inputs/2022startthrough29may22.xlsx',engine='openpyxl',header=0,skiprows=5, parse_dates=False)#parse_dates didn't work, see below"
   ]
  },
  {
   "cell_type": "markdown",
   "id": "ea6806ce",
   "metadata": {},
   "source": [
    "## Start Cleaning and Featuring"
   ]
  },
  {
   "cell_type": "code",
   "execution_count": 3,
   "id": "73a62dbe",
   "metadata": {},
   "outputs": [],
   "source": [
    "#initial cleaning setup\n",
    "retail_names = ['Airport','Pleasant Valley','Oak Hill'] # make sure this matches the above list length - no known automation possible\n",
    "list_of_retail_stores = ['Customer Square ' + str(x+1) for x in range(len(retail_names))] #we have 3 stores active, we won't count the Warehouse\n",
    "store_map = dict(zip(list_of_retail_stores,retail_names))\n",
    "\n",
    "#ws = df[df.Customer.isin(list_of_retail_stores) == False] #WHOLESALE\n",
    "df = df[df.Customer.isin(list_of_retail_stores) & df.Product.notnull()].reset_index(drop=True) #remove wholesale and weird null anomoly entries"
   ]
  },
  {
   "cell_type": "markdown",
   "id": "6a3f5678",
   "metadata": {},
   "source": [
    "### Check for duplicate products / DEAR errors (Backend inventory management system)"
   ]
  },
  {
   "cell_type": "code",
   "execution_count": 4,
   "id": "b5635c0b",
   "metadata": {},
   "outputs": [
    {
     "data": {
      "text/html": [
       "<div>\n",
       "<style scoped>\n",
       "    .dataframe tbody tr th:only-of-type {\n",
       "        vertical-align: middle;\n",
       "    }\n",
       "\n",
       "    .dataframe tbody tr th {\n",
       "        vertical-align: top;\n",
       "    }\n",
       "\n",
       "    .dataframe thead th {\n",
       "        text-align: right;\n",
       "    }\n",
       "</style>\n",
       "<table border=\"1\" class=\"dataframe\">\n",
       "  <thead>\n",
       "    <tr style=\"text-align: right;\">\n",
       "      <th></th>\n",
       "      <th>Product</th>\n",
       "      <th>SKU</th>\n",
       "      <th>Category</th>\n",
       "      <th>Invoice Date</th>\n",
       "      <th>Customer</th>\n",
       "      <th>Quantity</th>\n",
       "      <th>Sale</th>\n",
       "      <th>COGS</th>\n",
       "      <th>Profit</th>\n",
       "    </tr>\n",
       "  </thead>\n",
       "  <tbody>\n",
       "  </tbody>\n",
       "</table>\n",
       "</div>"
      ],
      "text/plain": [
       "Empty DataFrame\n",
       "Columns: [Product, SKU, Category, Invoice Date, Customer, Quantity, Sale, COGS, Profit]\n",
       "Index: []"
      ]
     },
     "execution_count": 4,
     "metadata": {},
     "output_type": "execute_result"
    }
   ],
   "source": [
    "#df['SKU'] = df.SKU.apply(str)\n",
    "temp = df.groupby([\"Product\",\"SKU\"]).count().reset_index()\n",
    "temp[temp['Product'].duplicated()]"
   ]
  },
  {
   "cell_type": "markdown",
   "id": "ef12fd5f",
   "metadata": {},
   "source": [
    "### Features Adding and Dropping"
   ]
  },
  {
   "cell_type": "code",
   "execution_count": 5,
   "id": "c0ae3447",
   "metadata": {},
   "outputs": [],
   "source": [
    "#start cleaning some of the unused or needed columns / rows, converting \"Invoice Date\" to datetime objects\n",
    "df = df.drop(['SKU', 'COGS','Profit'], axis=1, inplace=False)#not trusted data columns or useful, we'll ignore them for now\n",
    "df = df.rename(columns={'Invoice Date':'Date'})#renaming for legibility "
   ]
  },
  {
   "cell_type": "code",
   "execution_count": 6,
   "id": "2a9f59c3",
   "metadata": {},
   "outputs": [
    {
     "data": {
      "text/html": [
       "<div>\n",
       "<style scoped>\n",
       "    .dataframe tbody tr th:only-of-type {\n",
       "        vertical-align: middle;\n",
       "    }\n",
       "\n",
       "    .dataframe tbody tr th {\n",
       "        vertical-align: top;\n",
       "    }\n",
       "\n",
       "    .dataframe thead th {\n",
       "        text-align: right;\n",
       "    }\n",
       "</style>\n",
       "<table border=\"1\" class=\"dataframe\">\n",
       "  <thead>\n",
       "    <tr style=\"text-align: right;\">\n",
       "      <th></th>\n",
       "      <th>Product</th>\n",
       "      <th>Category</th>\n",
       "      <th>Date</th>\n",
       "      <th>Customer</th>\n",
       "      <th>Quantity</th>\n",
       "      <th>Sale</th>\n",
       "      <th>Month</th>\n",
       "      <th>Weekday</th>\n",
       "      <th>Week</th>\n",
       "      <th>Unit</th>\n",
       "    </tr>\n",
       "  </thead>\n",
       "  <tbody>\n",
       "    <tr>\n",
       "      <th>0</th>\n",
       "      <td>Matthiasson Cabernet Sauvignon 750ml</td>\n",
       "      <td>Red New World</td>\n",
       "      <td>2022-01-14</td>\n",
       "      <td>Customer Square 2</td>\n",
       "      <td>1</td>\n",
       "      <td>67.99</td>\n",
       "      <td>1</td>\n",
       "      <td>4</td>\n",
       "      <td>2</td>\n",
       "      <td>67.99</td>\n",
       "    </tr>\n",
       "    <tr>\n",
       "      <th>1</th>\n",
       "      <td>Matthiasson Cabernet Sauvignon 750ml</td>\n",
       "      <td>Red New World</td>\n",
       "      <td>2022-01-21</td>\n",
       "      <td>Customer Square 3</td>\n",
       "      <td>1</td>\n",
       "      <td>67.99</td>\n",
       "      <td>1</td>\n",
       "      <td>4</td>\n",
       "      <td>3</td>\n",
       "      <td>67.99</td>\n",
       "    </tr>\n",
       "  </tbody>\n",
       "</table>\n",
       "</div>"
      ],
      "text/plain": [
       "                                Product       Category       Date  \\\n",
       "0  Matthiasson Cabernet Sauvignon 750ml  Red New World 2022-01-14   \n",
       "1  Matthiasson Cabernet Sauvignon 750ml  Red New World 2022-01-21   \n",
       "\n",
       "            Customer  Quantity   Sale  Month  Weekday  Week   Unit  \n",
       "0  Customer Square 2         1  67.99      1        4     2  67.99  \n",
       "1  Customer Square 3         1  67.99      1        4     3  67.99  "
      ]
     },
     "execution_count": 6,
     "metadata": {},
     "output_type": "execute_result"
    }
   ],
   "source": [
    "df['Date'] = pd.to_datetime(df['Date'], format='%d-%b-%Y')#get these dates converted from string to something more powerful\n",
    "df['Month'] = df.Date.apply(lambda x: x.month)#.month_name() also an option but i dont trust yet\n",
    "df['Weekday'] = df.Date.apply(lambda x: x.dayofweek)#Monday is 0, Sunday is 6, day_name() also an option but i dont trust yet\n",
    "df['Week'] = df.Date.apply(lambda x: x.isocalendar()[1])#x.isocalendar().week\n",
    "df[\"Unit\"] = df.Sale / df.Quantity\n",
    "df.head(2)"
   ]
  },
  {
   "cell_type": "code",
   "execution_count": 7,
   "id": "be3c4d16",
   "metadata": {},
   "outputs": [],
   "source": [
    "itnl_whiskey = ['Whiskey French', 'Whiskey Indian', 'Whiskey Mexican', 'Whiskey Taiwaneese', 'Whisky German']\n",
    "df['Category'] = df.apply(lambda row: \"Itnl Whiskey\" if row.Category in itnl_whiskey else row.Category,axis=1)\n",
    "#df[df.Category == 'Itnl Whiskey']"
   ]
  },
  {
   "cell_type": "markdown",
   "id": "ff9d6289",
   "metadata": {},
   "source": [
    "## Make the Par Suggestion DataFrame"
   ]
  },
  {
   "cell_type": "code",
   "execution_count": 8,
   "id": "bc9b4203",
   "metadata": {},
   "outputs": [
    {
     "data": {
      "text/html": [
       "<div>\n",
       "<style scoped>\n",
       "    .dataframe tbody tr th:only-of-type {\n",
       "        vertical-align: middle;\n",
       "    }\n",
       "\n",
       "    .dataframe tbody tr th {\n",
       "        vertical-align: top;\n",
       "    }\n",
       "\n",
       "    .dataframe thead th {\n",
       "        text-align: right;\n",
       "    }\n",
       "</style>\n",
       "<table border=\"1\" class=\"dataframe\">\n",
       "  <thead>\n",
       "    <tr style=\"text-align: right;\">\n",
       "      <th></th>\n",
       "      <th>Product</th>\n",
       "      <th>Category</th>\n",
       "      <th>Date</th>\n",
       "      <th>Customer</th>\n",
       "      <th>Quantity</th>\n",
       "      <th>Sale</th>\n",
       "      <th>Month</th>\n",
       "      <th>Weekday</th>\n",
       "      <th>Week</th>\n",
       "      <th>Unit</th>\n",
       "    </tr>\n",
       "  </thead>\n",
       "  <tbody>\n",
       "    <tr>\n",
       "      <th>0</th>\n",
       "      <td>Matthiasson Cabernet Sauvignon 750ml</td>\n",
       "      <td>Red New World</td>\n",
       "      <td>2022-01-14</td>\n",
       "      <td>Customer Square 2</td>\n",
       "      <td>1</td>\n",
       "      <td>67.99</td>\n",
       "      <td>1</td>\n",
       "      <td>4</td>\n",
       "      <td>2</td>\n",
       "      <td>67.99</td>\n",
       "    </tr>\n",
       "    <tr>\n",
       "      <th>1</th>\n",
       "      <td>Matthiasson Cabernet Sauvignon 750ml</td>\n",
       "      <td>Red New World</td>\n",
       "      <td>2022-01-21</td>\n",
       "      <td>Customer Square 3</td>\n",
       "      <td>1</td>\n",
       "      <td>67.99</td>\n",
       "      <td>1</td>\n",
       "      <td>4</td>\n",
       "      <td>3</td>\n",
       "      <td>67.99</td>\n",
       "    </tr>\n",
       "  </tbody>\n",
       "</table>\n",
       "</div>"
      ],
      "text/plain": [
       "                                Product       Category       Date  \\\n",
       "0  Matthiasson Cabernet Sauvignon 750ml  Red New World 2022-01-14   \n",
       "1  Matthiasson Cabernet Sauvignon 750ml  Red New World 2022-01-21   \n",
       "\n",
       "            Customer  Quantity   Sale  Month  Weekday  Week   Unit  \n",
       "0  Customer Square 2         1  67.99      1        4     2  67.99  \n",
       "1  Customer Square 3         1  67.99      1        4     3  67.99  "
      ]
     },
     "execution_count": 8,
     "metadata": {},
     "output_type": "execute_result"
    }
   ],
   "source": [
    "df.head(2)"
   ]
  },
  {
   "cell_type": "code",
   "execution_count": 9,
   "id": "1d4dde1c",
   "metadata": {},
   "outputs": [
    {
     "data": {
      "text/html": [
       "<div>\n",
       "<style scoped>\n",
       "    .dataframe tbody tr th:only-of-type {\n",
       "        vertical-align: middle;\n",
       "    }\n",
       "\n",
       "    .dataframe tbody tr th {\n",
       "        vertical-align: top;\n",
       "    }\n",
       "\n",
       "    .dataframe thead th {\n",
       "        text-align: right;\n",
       "    }\n",
       "</style>\n",
       "<table border=\"1\" class=\"dataframe\">\n",
       "  <thead>\n",
       "    <tr style=\"text-align: right;\">\n",
       "      <th></th>\n",
       "      <th>Product</th>\n",
       "      <th>Week</th>\n",
       "      <th>Customer</th>\n",
       "      <th>Quantity</th>\n",
       "    </tr>\n",
       "  </thead>\n",
       "  <tbody>\n",
       "    <tr>\n",
       "      <th>11689</th>\n",
       "      <td>El Jimador Reposado 375ml</td>\n",
       "      <td>2</td>\n",
       "      <td>Customer Square 2</td>\n",
       "      <td>1</td>\n",
       "    </tr>\n",
       "    <tr>\n",
       "      <th>11691</th>\n",
       "      <td>El Jimador Reposado 375ml</td>\n",
       "      <td>3</td>\n",
       "      <td>Customer Square 2</td>\n",
       "      <td>4</td>\n",
       "    </tr>\n",
       "    <tr>\n",
       "      <th>11692</th>\n",
       "      <td>El Jimador Reposado 375ml</td>\n",
       "      <td>4</td>\n",
       "      <td>Customer Square 2</td>\n",
       "      <td>3</td>\n",
       "    </tr>\n",
       "    <tr>\n",
       "      <th>11694</th>\n",
       "      <td>El Jimador Reposado 375ml</td>\n",
       "      <td>5</td>\n",
       "      <td>Customer Square 2</td>\n",
       "      <td>1</td>\n",
       "    </tr>\n",
       "    <tr>\n",
       "      <th>11696</th>\n",
       "      <td>El Jimador Reposado 375ml</td>\n",
       "      <td>6</td>\n",
       "      <td>Customer Square 2</td>\n",
       "      <td>1</td>\n",
       "    </tr>\n",
       "    <tr>\n",
       "      <th>11698</th>\n",
       "      <td>El Jimador Reposado 375ml</td>\n",
       "      <td>7</td>\n",
       "      <td>Customer Square 2</td>\n",
       "      <td>1</td>\n",
       "    </tr>\n",
       "    <tr>\n",
       "      <th>11703</th>\n",
       "      <td>El Jimador Reposado 375ml</td>\n",
       "      <td>11</td>\n",
       "      <td>Customer Square 2</td>\n",
       "      <td>1</td>\n",
       "    </tr>\n",
       "    <tr>\n",
       "      <th>11708</th>\n",
       "      <td>El Jimador Reposado 375ml</td>\n",
       "      <td>15</td>\n",
       "      <td>Customer Square 2</td>\n",
       "      <td>1</td>\n",
       "    </tr>\n",
       "    <tr>\n",
       "      <th>11710</th>\n",
       "      <td>El Jimador Reposado 375ml</td>\n",
       "      <td>16</td>\n",
       "      <td>Customer Square 2</td>\n",
       "      <td>1</td>\n",
       "    </tr>\n",
       "    <tr>\n",
       "      <th>11713</th>\n",
       "      <td>El Jimador Reposado 375ml</td>\n",
       "      <td>18</td>\n",
       "      <td>Customer Square 2</td>\n",
       "      <td>2</td>\n",
       "    </tr>\n",
       "    <tr>\n",
       "      <th>11715</th>\n",
       "      <td>El Jimador Reposado 375ml</td>\n",
       "      <td>19</td>\n",
       "      <td>Customer Square 2</td>\n",
       "      <td>1</td>\n",
       "    </tr>\n",
       "    <tr>\n",
       "      <th>11716</th>\n",
       "      <td>El Jimador Reposado 375ml</td>\n",
       "      <td>20</td>\n",
       "      <td>Customer Square 2</td>\n",
       "      <td>6</td>\n",
       "    </tr>\n",
       "  </tbody>\n",
       "</table>\n",
       "</div>"
      ],
      "text/plain": [
       "                         Product  Week           Customer  Quantity\n",
       "11689  El Jimador Reposado 375ml     2  Customer Square 2         1\n",
       "11691  El Jimador Reposado 375ml     3  Customer Square 2         4\n",
       "11692  El Jimador Reposado 375ml     4  Customer Square 2         3\n",
       "11694  El Jimador Reposado 375ml     5  Customer Square 2         1\n",
       "11696  El Jimador Reposado 375ml     6  Customer Square 2         1\n",
       "11698  El Jimador Reposado 375ml     7  Customer Square 2         1\n",
       "11703  El Jimador Reposado 375ml    11  Customer Square 2         1\n",
       "11708  El Jimador Reposado 375ml    15  Customer Square 2         1\n",
       "11710  El Jimador Reposado 375ml    16  Customer Square 2         1\n",
       "11713  El Jimador Reposado 375ml    18  Customer Square 2         2\n",
       "11715  El Jimador Reposado 375ml    19  Customer Square 2         1\n",
       "11716  El Jimador Reposado 375ml    20  Customer Square 2         6"
      ]
     },
     "execution_count": 9,
     "metadata": {},
     "output_type": "execute_result"
    }
   ],
   "source": [
    "##explain\n",
    "pars = df[df.Product != 'eGift Card'].groupby(['Product','Week','Customer']).Quantity.sum().reset_index()\n",
    "pars[(pars.Customer == 'Customer Square 2') & (pars.Product == 'El Jimador Reposado 375ml')]"
   ]
  },
  {
   "cell_type": "code",
   "execution_count": 10,
   "id": "c85ba18c",
   "metadata": {},
   "outputs": [
    {
     "ename": "MemoryError",
     "evalue": "",
     "output_type": "error",
     "traceback": [
      "\u001b[1;31m---------------------------------------------------------------------------\u001b[0m",
      "\u001b[1;31mMemoryError\u001b[0m                               Traceback (most recent call last)",
      "\u001b[1;32m~\\AppData\\Local\\Temp/ipykernel_5776/1763064055.py\u001b[0m in \u001b[0;36m<module>\u001b[1;34m\u001b[0m\n\u001b[0;32m      5\u001b[0m         \u001b[0mtl\u001b[0m \u001b[1;33m=\u001b[0m \u001b[0mlen\u001b[0m\u001b[1;33m(\u001b[0m\u001b[0mqs\u001b[0m\u001b[1;33m)\u001b[0m\u001b[1;31m#temporary length\u001b[0m\u001b[1;33m\u001b[0m\u001b[1;33m\u001b[0m\u001b[0m\n\u001b[0;32m      6\u001b[0m         \u001b[1;32mwhile\u001b[0m \u001b[0mtl\u001b[0m \u001b[1;33m<\u001b[0m \u001b[1;36m52\u001b[0m\u001b[1;33m:\u001b[0m \u001b[1;31m# eventually future proof this for any date range given\u001b[0m\u001b[1;33m\u001b[0m\u001b[1;33m\u001b[0m\u001b[0m\n\u001b[1;32m----> 7\u001b[1;33m             \u001b[0mqs\u001b[0m\u001b[1;33m.\u001b[0m\u001b[0mappend\u001b[0m\u001b[1;33m(\u001b[0m\u001b[1;36m0\u001b[0m\u001b[1;33m)\u001b[0m\u001b[1;33m\u001b[0m\u001b[1;33m\u001b[0m\u001b[0m\n\u001b[0m\u001b[0;32m      8\u001b[0m         \u001b[0mqs\u001b[0m \u001b[1;33m=\u001b[0m \u001b[0mnp\u001b[0m\u001b[1;33m.\u001b[0m\u001b[0marray\u001b[0m\u001b[1;33m(\u001b[0m\u001b[0mqs\u001b[0m\u001b[1;33m)\u001b[0m\u001b[1;33m\u001b[0m\u001b[1;33m\u001b[0m\u001b[0m\n\u001b[0;32m      9\u001b[0m         \u001b[0mgather\u001b[0m\u001b[1;33m.\u001b[0m\u001b[0mappend\u001b[0m\u001b[1;33m(\u001b[0m\u001b[1;33m[\u001b[0m\u001b[0mproduct\u001b[0m\u001b[1;33m,\u001b[0m\u001b[0mstore\u001b[0m\u001b[1;33m,\u001b[0m\u001b[0mtl\u001b[0m\u001b[1;33m,\u001b[0m\u001b[0mqs\u001b[0m\u001b[1;33m.\u001b[0m\u001b[0mmean\u001b[0m\u001b[1;33m(\u001b[0m\u001b[1;33m)\u001b[0m\u001b[1;33m,\u001b[0m\u001b[0mqs\u001b[0m\u001b[1;33m.\u001b[0m\u001b[0mstd\u001b[0m\u001b[1;33m(\u001b[0m\u001b[1;33m)\u001b[0m\u001b[1;33m,\u001b[0m\u001b[0mqs\u001b[0m\u001b[1;33m.\u001b[0m\u001b[0mmin\u001b[0m\u001b[1;33m(\u001b[0m\u001b[1;33m)\u001b[0m\u001b[1;33m,\u001b[0m\u001b[0mqs\u001b[0m\u001b[1;33m.\u001b[0m\u001b[0mmax\u001b[0m\u001b[1;33m(\u001b[0m\u001b[1;33m)\u001b[0m\u001b[1;33m,\u001b[0m\u001b[0mnp\u001b[0m\u001b[1;33m.\u001b[0m\u001b[0mpercentile\u001b[0m\u001b[1;33m(\u001b[0m\u001b[0mqs\u001b[0m\u001b[1;33m,\u001b[0m\u001b[1;36m25\u001b[0m\u001b[1;33m)\u001b[0m\u001b[1;33m,\u001b[0m\u001b[0mnp\u001b[0m\u001b[1;33m.\u001b[0m\u001b[0mpercentile\u001b[0m\u001b[1;33m(\u001b[0m\u001b[0mqs\u001b[0m\u001b[1;33m,\u001b[0m\u001b[1;36m50\u001b[0m\u001b[1;33m)\u001b[0m\u001b[1;33m,\u001b[0m\u001b[0mnp\u001b[0m\u001b[1;33m.\u001b[0m\u001b[0mpercentile\u001b[0m\u001b[1;33m(\u001b[0m\u001b[0mqs\u001b[0m\u001b[1;33m,\u001b[0m\u001b[1;36m75\u001b[0m\u001b[1;33m)\u001b[0m\u001b[1;33m]\u001b[0m\u001b[1;33m)\u001b[0m\u001b[1;33m\u001b[0m\u001b[1;33m\u001b[0m\u001b[0m\n",
      "\u001b[1;31mMemoryError\u001b[0m: "
     ]
    }
   ],
   "source": [
    "gather = []\n",
    "for product in pars.Product.unique():\n",
    "    for store in list_of_retail_stores:\n",
    "        qs = pars[(pars.Product == product) & (pars.Customer == store)].Quantity.to_list()\n",
    "        tl = len(qs)#temporary length\n",
    "        while tl < 52: # eventually future proof this for any date range given\n",
    "            qs.append(0)\n",
    "        qs = np.array(qs)\n",
    "        gather.append([product,store,tl,qs.mean(),qs.std(),qs.min(),qs.max(),np.percentile(qs,25),np.percentile(qs,50),np.percentile(qs,75)])\n",
    "        \n",
    "par_suggest = pd.DataFrame(gather,columns=['Product','Customer','Count','Mean','Std','Min','Max','25','50','75'])\n",
    "#output.to_csv('parguide.csv',index=False)\n",
    "#par_suggest.head()"
   ]
  },
  {
   "cell_type": "code",
   "execution_count": null,
   "id": "8cac38d5",
   "metadata": {},
   "outputs": [],
   "source": [
    "par_suggest[(par_suggest.Customer == 'Customer Square 2') & (par_suggest.Product == 'El Jimador Reposado 375ml')].head(10)"
   ]
  },
  {
   "cell_type": "markdown",
   "id": "02d2899f",
   "metadata": {},
   "source": [
    "## Read in current pars"
   ]
  },
  {
   "cell_type": "code",
   "execution_count": null,
   "id": "d1b3cfa1",
   "metadata": {},
   "outputs": [],
   "source": [
    "#DEAR -> PRODUCTS -> EXPORT -> STOCK REORDER LOCATIONS\n",
    "\n",
    "read_pars = pd.read_csv('StockReorderlocations_2022-01-21.csv',header=0,dtype=str)#parse_dates\n",
    "read_pars.rename(columns={'ProductName':'Product','Location':'Customer'},inplace=True)\n",
    "read_pars.drop(['StockLocator','PickZones'],inplace=True,axis=1)\n",
    "read_pars.MinimumBeforeReorder = read_pars.MinimumBeforeReorder.astype(float)\n",
    "read_pars.MinimumBeforeReorder = read_pars.MinimumBeforeReorder.astype(int)\n",
    "read_pars.ReorderQuantity = read_pars.ReorderQuantity.astype(float)\n",
    "read_pars.ReorderQuantity = read_pars.ReorderQuantity.astype(int)\n",
    "#read_pars.info()"
   ]
  },
  {
   "cell_type": "code",
   "execution_count": null,
   "id": "c7b0db81",
   "metadata": {},
   "outputs": [],
   "source": [
    "fixer = dict(zip(retail_names,list_of_retail_stores))\n",
    "read_pars['Customer'] = read_pars.apply(lambda x: fixer[x.Customer] if x.Customer != 'Warehouse' else 'Warehouse',axis=1 )\n",
    "#read_pars"
   ]
  },
  {
   "cell_type": "code",
   "execution_count": null,
   "id": "13287693",
   "metadata": {},
   "outputs": [],
   "source": [
    "#print(par_suggest.head())\n",
    "#print(read_pars.head())\n",
    "mess = par_suggest.merge(right=read_pars,on=['Product','Customer'])\n",
    "mess['Unit'] = mess.apply(lambda x: df.loc[df.Product == x.Product].iloc[0].Unit,axis=1)\n",
    "mess['RoundedMean'] = mess['Mean'].round()\n",
    "mess['DiffMean'] = (mess['MinimumBeforeReorder'] - mess['RoundedMean']).round() \n",
    "mess['Diff75'] = (mess['MinimumBeforeReorder'] - mess['75']).round()\n",
    "mess['MeanSavings'] = mess['DiffMean'] * mess['Unit']\n",
    "mess['75Savings'] = mess['Diff75'] * mess['Unit']\n",
    "mess.to_csv('outputs/paranalysis.csv',index=False)\n",
    "#print(mess.info())\n",
    "mess.head()"
   ]
  },
  {
   "cell_type": "code",
   "execution_count": null,
   "id": "387b652c",
   "metadata": {},
   "outputs": [],
   "source": [
    "#let's generate something we can upload to DEAR\n",
    "par_gen = mess[['Action','ProductSKU','Product','Customer','75','ReorderQuantity','75Savings']].copy()\n",
    "par_gen = par_gen.rename(columns={'Product':'ProductName','Customer':'Location','75':'MinimumBeforeReorder'})"
   ]
  },
  {
   "cell_type": "code",
   "execution_count": null,
   "id": "34419c6a",
   "metadata": {},
   "outputs": [],
   "source": [
    "par_gen = par_gen[par_gen.Location == 'Customer Square 2']\n",
    "par_gen.MinimumBeforeReorder = par_gen.MinimumBeforeReorder.round().astype(int)\n",
    "par_gen['Stock Locator'] = par_gen['PickZones'] = ''\n",
    "par_gen.to_csv('outputs/PVParGenerator.csv',index=False)\n",
    "#par_gen.info()"
   ]
  }
 ],
 "metadata": {
  "kernelspec": {
   "display_name": "Python 3 (ipykernel)",
   "language": "python",
   "name": "python3"
  },
  "language_info": {
   "codemirror_mode": {
    "name": "ipython",
    "version": 3
   },
   "file_extension": ".py",
   "mimetype": "text/x-python",
   "name": "python",
   "nbconvert_exporter": "python",
   "pygments_lexer": "ipython3",
   "version": "3.9.7"
  }
 },
 "nbformat": 4,
 "nbformat_minor": 5
}
